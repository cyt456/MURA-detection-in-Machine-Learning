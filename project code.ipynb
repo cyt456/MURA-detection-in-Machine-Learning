{
 "cells": [
  {
   "cell_type": "code",
   "execution_count": 1,
   "metadata": {},
   "outputs": [],
   "source": [
    "import numpy as np\n",
    "import pandas as pd\n",
    "import matplotlib.pyplot as plt\n",
    "import seaborn as sns\n",
    "import io\n",
    "import os\n",
    "import cv2\n",
    "%matplotlib inline"
   ]
  },
  {
   "cell_type": "code",
   "execution_count": 2,
   "metadata": {},
   "outputs": [],
   "source": [
    "from glob import glob"
   ]
  },
  {
   "cell_type": "code",
   "execution_count": 3,
   "metadata": {},
   "outputs": [
    {
     "name": "stderr",
     "output_type": "stream",
     "text": [
      "Using TensorFlow backend.\n"
     ]
    }
   ],
   "source": [
    "import keras\n",
    "import keras.backend as k"
   ]
  },
  {
   "cell_type": "markdown",
   "metadata": {},
   "source": [
    "## Data Overview"
   ]
  },
  {
   "cell_type": "code",
   "execution_count": 4,
   "metadata": {},
   "outputs": [],
   "source": [
    "trainImgDf=pd.read_csv('MURA-v1.1/train_image_paths.csv',header=None,names=['path'],dtype=str)\n",
    "trainLabelDf=pd.read_csv('MURA-v1.1/train_labeled_studies.csv',header=None,names=['path','label'],dtype=str)\n",
    "testImgDf=pd.read_csv('MURA-v1.1/valid_image_paths.csv',header=None,names=['path'],dtype=str)\n",
    "testLabelDf=pd.read_csv('MURA-v1.1/valid_labeled_studies.csv',header=None,names=['path','label'],dtype=str)\n"
   ]
  },
  {
   "cell_type": "markdown",
   "metadata": {},
   "source": [
    "### there are 4 csv files dedicated to the store the path of the image and the binary label of each study. The label is either 0 or 1, indicating the study is abnormal or normal"
   ]
  },
  {
   "cell_type": "code",
   "execution_count": 5,
   "metadata": {},
   "outputs": [
    {
     "data": {
      "text/plain": [
       "(36808, 1)"
      ]
     },
     "execution_count": 5,
     "metadata": {},
     "output_type": "execute_result"
    }
   ],
   "source": [
    "# number of images\n",
    "trainImgDf.shape"
   ]
  },
  {
   "cell_type": "code",
   "execution_count": 6,
   "metadata": {
    "scrolled": true
   },
   "outputs": [
    {
     "data": {
      "text/html": [
       "<div>\n",
       "<style scoped>\n",
       "    .dataframe tbody tr th:only-of-type {\n",
       "        vertical-align: middle;\n",
       "    }\n",
       "\n",
       "    .dataframe tbody tr th {\n",
       "        vertical-align: top;\n",
       "    }\n",
       "\n",
       "    .dataframe thead th {\n",
       "        text-align: right;\n",
       "    }\n",
       "</style>\n",
       "<table border=\"1\" class=\"dataframe\">\n",
       "  <thead>\n",
       "    <tr style=\"text-align: right;\">\n",
       "      <th></th>\n",
       "      <th>path</th>\n",
       "    </tr>\n",
       "  </thead>\n",
       "  <tbody>\n",
       "    <tr>\n",
       "      <th>0</th>\n",
       "      <td>MURA-v1.1/train/XR_SHOULDER/patient00001/study...</td>\n",
       "    </tr>\n",
       "    <tr>\n",
       "      <th>1</th>\n",
       "      <td>MURA-v1.1/train/XR_SHOULDER/patient00001/study...</td>\n",
       "    </tr>\n",
       "    <tr>\n",
       "      <th>2</th>\n",
       "      <td>MURA-v1.1/train/XR_SHOULDER/patient00001/study...</td>\n",
       "    </tr>\n",
       "    <tr>\n",
       "      <th>3</th>\n",
       "      <td>MURA-v1.1/train/XR_SHOULDER/patient00002/study...</td>\n",
       "    </tr>\n",
       "    <tr>\n",
       "      <th>4</th>\n",
       "      <td>MURA-v1.1/train/XR_SHOULDER/patient00002/study...</td>\n",
       "    </tr>\n",
       "    <tr>\n",
       "      <th>5</th>\n",
       "      <td>MURA-v1.1/train/XR_SHOULDER/patient00002/study...</td>\n",
       "    </tr>\n",
       "    <tr>\n",
       "      <th>6</th>\n",
       "      <td>MURA-v1.1/train/XR_SHOULDER/patient00003/study...</td>\n",
       "    </tr>\n",
       "    <tr>\n",
       "      <th>7</th>\n",
       "      <td>MURA-v1.1/train/XR_SHOULDER/patient00003/study...</td>\n",
       "    </tr>\n",
       "    <tr>\n",
       "      <th>8</th>\n",
       "      <td>MURA-v1.1/train/XR_SHOULDER/patient00003/study...</td>\n",
       "    </tr>\n",
       "    <tr>\n",
       "      <th>9</th>\n",
       "      <td>MURA-v1.1/train/XR_SHOULDER/patient00004/study...</td>\n",
       "    </tr>\n",
       "  </tbody>\n",
       "</table>\n",
       "</div>"
      ],
      "text/plain": [
       "                                                path\n",
       "0  MURA-v1.1/train/XR_SHOULDER/patient00001/study...\n",
       "1  MURA-v1.1/train/XR_SHOULDER/patient00001/study...\n",
       "2  MURA-v1.1/train/XR_SHOULDER/patient00001/study...\n",
       "3  MURA-v1.1/train/XR_SHOULDER/patient00002/study...\n",
       "4  MURA-v1.1/train/XR_SHOULDER/patient00002/study...\n",
       "5  MURA-v1.1/train/XR_SHOULDER/patient00002/study...\n",
       "6  MURA-v1.1/train/XR_SHOULDER/patient00003/study...\n",
       "7  MURA-v1.1/train/XR_SHOULDER/patient00003/study...\n",
       "8  MURA-v1.1/train/XR_SHOULDER/patient00003/study...\n",
       "9  MURA-v1.1/train/XR_SHOULDER/patient00004/study..."
      ]
     },
     "execution_count": 6,
     "metadata": {},
     "output_type": "execute_result"
    }
   ],
   "source": [
    "trainImgDf.head(10)"
   ]
  },
  {
   "cell_type": "code",
   "execution_count": 7,
   "metadata": {},
   "outputs": [
    {
     "data": {
      "text/plain": [
       "(13457, 2)"
      ]
     },
     "execution_count": 7,
     "metadata": {},
     "output_type": "execute_result"
    }
   ],
   "source": [
    "# number of labeled cases\n",
    "trainLabelDf.shape"
   ]
  },
  {
   "cell_type": "markdown",
   "metadata": {},
   "source": [
    "In the training set, the Mura data contains 13457 labeled cases, 36808 images. This indicates some cases may have more than 1 images."
   ]
  },
  {
   "cell_type": "code",
   "execution_count": 8,
   "metadata": {
    "scrolled": true
   },
   "outputs": [
    {
     "data": {
      "text/plain": [
       "0    8280\n",
       "1    5177\n",
       "Name: label, dtype: int64"
      ]
     },
     "execution_count": 8,
     "metadata": {},
     "output_type": "execute_result"
    }
   ],
   "source": [
    "# The binary output\n",
    "trainLabelDf['label'].value_counts()"
   ]
  },
  {
   "cell_type": "code",
   "execution_count": 9,
   "metadata": {
    "scrolled": false
   },
   "outputs": [
    {
     "data": {
      "text/html": [
       "<div>\n",
       "<style scoped>\n",
       "    .dataframe tbody tr th:only-of-type {\n",
       "        vertical-align: middle;\n",
       "    }\n",
       "\n",
       "    .dataframe tbody tr th {\n",
       "        vertical-align: top;\n",
       "    }\n",
       "\n",
       "    .dataframe thead th {\n",
       "        text-align: right;\n",
       "    }\n",
       "</style>\n",
       "<table border=\"1\" class=\"dataframe\">\n",
       "  <thead>\n",
       "    <tr style=\"text-align: right;\">\n",
       "      <th></th>\n",
       "      <th>path</th>\n",
       "    </tr>\n",
       "  </thead>\n",
       "  <tbody>\n",
       "    <tr>\n",
       "      <th>0</th>\n",
       "      <td>MURA-v1.1/valid/XR_WRIST/patient11185/study1_p...</td>\n",
       "    </tr>\n",
       "    <tr>\n",
       "      <th>1</th>\n",
       "      <td>MURA-v1.1/valid/XR_WRIST/patient11185/study1_p...</td>\n",
       "    </tr>\n",
       "    <tr>\n",
       "      <th>2</th>\n",
       "      <td>MURA-v1.1/valid/XR_WRIST/patient11185/study1_p...</td>\n",
       "    </tr>\n",
       "    <tr>\n",
       "      <th>3</th>\n",
       "      <td>MURA-v1.1/valid/XR_WRIST/patient11185/study1_p...</td>\n",
       "    </tr>\n",
       "    <tr>\n",
       "      <th>4</th>\n",
       "      <td>MURA-v1.1/valid/XR_WRIST/patient11186/study1_p...</td>\n",
       "    </tr>\n",
       "    <tr>\n",
       "      <th>5</th>\n",
       "      <td>MURA-v1.1/valid/XR_WRIST/patient11186/study1_p...</td>\n",
       "    </tr>\n",
       "    <tr>\n",
       "      <th>6</th>\n",
       "      <td>MURA-v1.1/valid/XR_WRIST/patient11186/study2_p...</td>\n",
       "    </tr>\n",
       "    <tr>\n",
       "      <th>7</th>\n",
       "      <td>MURA-v1.1/valid/XR_WRIST/patient11186/study2_p...</td>\n",
       "    </tr>\n",
       "    <tr>\n",
       "      <th>8</th>\n",
       "      <td>MURA-v1.1/valid/XR_WRIST/patient11186/study2_p...</td>\n",
       "    </tr>\n",
       "    <tr>\n",
       "      <th>9</th>\n",
       "      <td>MURA-v1.1/valid/XR_WRIST/patient11186/study3_p...</td>\n",
       "    </tr>\n",
       "  </tbody>\n",
       "</table>\n",
       "</div>"
      ],
      "text/plain": [
       "                                                path\n",
       "0  MURA-v1.1/valid/XR_WRIST/patient11185/study1_p...\n",
       "1  MURA-v1.1/valid/XR_WRIST/patient11185/study1_p...\n",
       "2  MURA-v1.1/valid/XR_WRIST/patient11185/study1_p...\n",
       "3  MURA-v1.1/valid/XR_WRIST/patient11185/study1_p...\n",
       "4  MURA-v1.1/valid/XR_WRIST/patient11186/study1_p...\n",
       "5  MURA-v1.1/valid/XR_WRIST/patient11186/study1_p...\n",
       "6  MURA-v1.1/valid/XR_WRIST/patient11186/study2_p...\n",
       "7  MURA-v1.1/valid/XR_WRIST/patient11186/study2_p...\n",
       "8  MURA-v1.1/valid/XR_WRIST/patient11186/study2_p...\n",
       "9  MURA-v1.1/valid/XR_WRIST/patient11186/study3_p..."
      ]
     },
     "execution_count": 9,
     "metadata": {},
     "output_type": "execute_result"
    }
   ],
   "source": [
    "testImgDf.head(10)"
   ]
  },
  {
   "cell_type": "code",
   "execution_count": 10,
   "metadata": {},
   "outputs": [
    {
     "data": {
      "text/plain": [
       "(3197, 1)"
      ]
     },
     "execution_count": 10,
     "metadata": {},
     "output_type": "execute_result"
    }
   ],
   "source": [
    "# number of test images\n",
    "testImgDf.shape"
   ]
  },
  {
   "cell_type": "code",
   "execution_count": 11,
   "metadata": {},
   "outputs": [
    {
     "data": {
      "text/plain": [
       "(1199, 2)"
      ]
     },
     "execution_count": 11,
     "metadata": {},
     "output_type": "execute_result"
    }
   ],
   "source": [
    "# number of cases\n",
    "testLabelDf.shape"
   ]
  },
  {
   "cell_type": "markdown",
   "metadata": {},
   "source": [
    "## adding additional columns by extrating information from the path for future analysis"
   ]
  },
  {
   "cell_type": "code",
   "execution_count": 12,
   "metadata": {},
   "outputs": [],
   "source": [
    "trainLabelDf['part']=trainLabelDf['path'].apply(lambda x: str(x.split('/')[2])[3:])\n",
    "trainLabelDf['patientNum']=trainLabelDf['path'].apply(lambda x: str(x.split('/')[3]))\n",
    "trainLabelDf['studyNum']=trainLabelDf['path'].apply(lambda x: str(x.split('/')[4])[:6])\n",
    "trainLabelDf['caseNum']=trainLabelDf[['patientNum','studyNum']].apply(lambda x: ''.join(x), axis=1)\n",
    "\n",
    "\n",
    "\n",
    "testLabelDf['part']=testLabelDf['path'].apply(lambda x: str(x.split('/')[2])[3:])\n",
    "testLabelDf['patientNum']=testLabelDf['path'].apply(lambda x: str(x.split('/')[3]))\n",
    "testLabelDf['studyNum']=testLabelDf['path'].apply(lambda x: str(x.split('/')[4])[:6])\n",
    "testLabelDf['caseNum']=testLabelDf[['patientNum','studyNum']].apply(lambda x: ''.join(x), axis=1)"
   ]
  },
  {
   "cell_type": "code",
   "execution_count": 13,
   "metadata": {},
   "outputs": [
    {
     "data": {
      "text/html": [
       "<div>\n",
       "<style scoped>\n",
       "    .dataframe tbody tr th:only-of-type {\n",
       "        vertical-align: middle;\n",
       "    }\n",
       "\n",
       "    .dataframe tbody tr th {\n",
       "        vertical-align: top;\n",
       "    }\n",
       "\n",
       "    .dataframe thead th {\n",
       "        text-align: right;\n",
       "    }\n",
       "</style>\n",
       "<table border=\"1\" class=\"dataframe\">\n",
       "  <thead>\n",
       "    <tr style=\"text-align: right;\">\n",
       "      <th></th>\n",
       "      <th>path</th>\n",
       "      <th>label</th>\n",
       "      <th>part</th>\n",
       "      <th>patientNum</th>\n",
       "      <th>studyNum</th>\n",
       "      <th>caseNum</th>\n",
       "    </tr>\n",
       "  </thead>\n",
       "  <tbody>\n",
       "    <tr>\n",
       "      <th>0</th>\n",
       "      <td>MURA-v1.1/train/XR_SHOULDER/patient00001/study...</td>\n",
       "      <td>1</td>\n",
       "      <td>SHOULDER</td>\n",
       "      <td>patient00001</td>\n",
       "      <td>study1</td>\n",
       "      <td>patient00001study1</td>\n",
       "    </tr>\n",
       "    <tr>\n",
       "      <th>1</th>\n",
       "      <td>MURA-v1.1/train/XR_SHOULDER/patient00002/study...</td>\n",
       "      <td>1</td>\n",
       "      <td>SHOULDER</td>\n",
       "      <td>patient00002</td>\n",
       "      <td>study1</td>\n",
       "      <td>patient00002study1</td>\n",
       "    </tr>\n",
       "    <tr>\n",
       "      <th>2</th>\n",
       "      <td>MURA-v1.1/train/XR_SHOULDER/patient00003/study...</td>\n",
       "      <td>1</td>\n",
       "      <td>SHOULDER</td>\n",
       "      <td>patient00003</td>\n",
       "      <td>study1</td>\n",
       "      <td>patient00003study1</td>\n",
       "    </tr>\n",
       "    <tr>\n",
       "      <th>3</th>\n",
       "      <td>MURA-v1.1/train/XR_SHOULDER/patient00004/study...</td>\n",
       "      <td>1</td>\n",
       "      <td>SHOULDER</td>\n",
       "      <td>patient00004</td>\n",
       "      <td>study1</td>\n",
       "      <td>patient00004study1</td>\n",
       "    </tr>\n",
       "    <tr>\n",
       "      <th>4</th>\n",
       "      <td>MURA-v1.1/train/XR_SHOULDER/patient00005/study...</td>\n",
       "      <td>1</td>\n",
       "      <td>SHOULDER</td>\n",
       "      <td>patient00005</td>\n",
       "      <td>study1</td>\n",
       "      <td>patient00005study1</td>\n",
       "    </tr>\n",
       "    <tr>\n",
       "      <th>5</th>\n",
       "      <td>MURA-v1.1/train/XR_SHOULDER/patient00006/study...</td>\n",
       "      <td>1</td>\n",
       "      <td>SHOULDER</td>\n",
       "      <td>patient00006</td>\n",
       "      <td>study1</td>\n",
       "      <td>patient00006study1</td>\n",
       "    </tr>\n",
       "    <tr>\n",
       "      <th>6</th>\n",
       "      <td>MURA-v1.1/train/XR_SHOULDER/patient00007/study...</td>\n",
       "      <td>1</td>\n",
       "      <td>SHOULDER</td>\n",
       "      <td>patient00007</td>\n",
       "      <td>study1</td>\n",
       "      <td>patient00007study1</td>\n",
       "    </tr>\n",
       "    <tr>\n",
       "      <th>7</th>\n",
       "      <td>MURA-v1.1/train/XR_SHOULDER/patient00007/study...</td>\n",
       "      <td>0</td>\n",
       "      <td>SHOULDER</td>\n",
       "      <td>patient00007</td>\n",
       "      <td>study2</td>\n",
       "      <td>patient00007study2</td>\n",
       "    </tr>\n",
       "    <tr>\n",
       "      <th>8</th>\n",
       "      <td>MURA-v1.1/train/XR_SHOULDER/patient00008/study...</td>\n",
       "      <td>1</td>\n",
       "      <td>SHOULDER</td>\n",
       "      <td>patient00008</td>\n",
       "      <td>study1</td>\n",
       "      <td>patient00008study1</td>\n",
       "    </tr>\n",
       "    <tr>\n",
       "      <th>9</th>\n",
       "      <td>MURA-v1.1/train/XR_SHOULDER/patient00009/study...</td>\n",
       "      <td>1</td>\n",
       "      <td>SHOULDER</td>\n",
       "      <td>patient00009</td>\n",
       "      <td>study1</td>\n",
       "      <td>patient00009study1</td>\n",
       "    </tr>\n",
       "  </tbody>\n",
       "</table>\n",
       "</div>"
      ],
      "text/plain": [
       "                                                path label      part  \\\n",
       "0  MURA-v1.1/train/XR_SHOULDER/patient00001/study...     1  SHOULDER   \n",
       "1  MURA-v1.1/train/XR_SHOULDER/patient00002/study...     1  SHOULDER   \n",
       "2  MURA-v1.1/train/XR_SHOULDER/patient00003/study...     1  SHOULDER   \n",
       "3  MURA-v1.1/train/XR_SHOULDER/patient00004/study...     1  SHOULDER   \n",
       "4  MURA-v1.1/train/XR_SHOULDER/patient00005/study...     1  SHOULDER   \n",
       "5  MURA-v1.1/train/XR_SHOULDER/patient00006/study...     1  SHOULDER   \n",
       "6  MURA-v1.1/train/XR_SHOULDER/patient00007/study...     1  SHOULDER   \n",
       "7  MURA-v1.1/train/XR_SHOULDER/patient00007/study...     0  SHOULDER   \n",
       "8  MURA-v1.1/train/XR_SHOULDER/patient00008/study...     1  SHOULDER   \n",
       "9  MURA-v1.1/train/XR_SHOULDER/patient00009/study...     1  SHOULDER   \n",
       "\n",
       "     patientNum studyNum             caseNum  \n",
       "0  patient00001   study1  patient00001study1  \n",
       "1  patient00002   study1  patient00002study1  \n",
       "2  patient00003   study1  patient00003study1  \n",
       "3  patient00004   study1  patient00004study1  \n",
       "4  patient00005   study1  patient00005study1  \n",
       "5  patient00006   study1  patient00006study1  \n",
       "6  patient00007   study1  patient00007study1  \n",
       "7  patient00007   study2  patient00007study2  \n",
       "8  patient00008   study1  patient00008study1  \n",
       "9  patient00009   study1  patient00009study1  "
      ]
     },
     "execution_count": 13,
     "metadata": {},
     "output_type": "execute_result"
    }
   ],
   "source": [
    "trainLabelDf.head(10)"
   ]
  },
  {
   "cell_type": "code",
   "execution_count": 14,
   "metadata": {
    "scrolled": true
   },
   "outputs": [
    {
     "data": {
      "text/html": [
       "<div>\n",
       "<style scoped>\n",
       "    .dataframe tbody tr th:only-of-type {\n",
       "        vertical-align: middle;\n",
       "    }\n",
       "\n",
       "    .dataframe tbody tr th {\n",
       "        vertical-align: top;\n",
       "    }\n",
       "\n",
       "    .dataframe thead th {\n",
       "        text-align: right;\n",
       "    }\n",
       "</style>\n",
       "<table border=\"1\" class=\"dataframe\">\n",
       "  <thead>\n",
       "    <tr style=\"text-align: right;\">\n",
       "      <th></th>\n",
       "      <th>path</th>\n",
       "      <th>label</th>\n",
       "      <th>part</th>\n",
       "      <th>patientNum</th>\n",
       "      <th>studyNum</th>\n",
       "      <th>caseNum</th>\n",
       "    </tr>\n",
       "  </thead>\n",
       "  <tbody>\n",
       "    <tr>\n",
       "      <th>0</th>\n",
       "      <td>MURA-v1.1/valid/XR_WRIST/patient11185/study1_p...</td>\n",
       "      <td>1</td>\n",
       "      <td>WRIST</td>\n",
       "      <td>patient11185</td>\n",
       "      <td>study1</td>\n",
       "      <td>patient11185study1</td>\n",
       "    </tr>\n",
       "    <tr>\n",
       "      <th>1</th>\n",
       "      <td>MURA-v1.1/valid/XR_WRIST/patient11186/study1_p...</td>\n",
       "      <td>1</td>\n",
       "      <td>WRIST</td>\n",
       "      <td>patient11186</td>\n",
       "      <td>study1</td>\n",
       "      <td>patient11186study1</td>\n",
       "    </tr>\n",
       "    <tr>\n",
       "      <th>2</th>\n",
       "      <td>MURA-v1.1/valid/XR_WRIST/patient11186/study2_p...</td>\n",
       "      <td>1</td>\n",
       "      <td>WRIST</td>\n",
       "      <td>patient11186</td>\n",
       "      <td>study2</td>\n",
       "      <td>patient11186study2</td>\n",
       "    </tr>\n",
       "    <tr>\n",
       "      <th>3</th>\n",
       "      <td>MURA-v1.1/valid/XR_WRIST/patient11186/study3_p...</td>\n",
       "      <td>1</td>\n",
       "      <td>WRIST</td>\n",
       "      <td>patient11186</td>\n",
       "      <td>study3</td>\n",
       "      <td>patient11186study3</td>\n",
       "    </tr>\n",
       "    <tr>\n",
       "      <th>4</th>\n",
       "      <td>MURA-v1.1/valid/XR_WRIST/patient11187/study1_p...</td>\n",
       "      <td>1</td>\n",
       "      <td>WRIST</td>\n",
       "      <td>patient11187</td>\n",
       "      <td>study1</td>\n",
       "      <td>patient11187study1</td>\n",
       "    </tr>\n",
       "    <tr>\n",
       "      <th>5</th>\n",
       "      <td>MURA-v1.1/valid/XR_WRIST/patient11188/study1_p...</td>\n",
       "      <td>1</td>\n",
       "      <td>WRIST</td>\n",
       "      <td>patient11188</td>\n",
       "      <td>study1</td>\n",
       "      <td>patient11188study1</td>\n",
       "    </tr>\n",
       "    <tr>\n",
       "      <th>6</th>\n",
       "      <td>MURA-v1.1/valid/XR_WRIST/patient11189/study1_p...</td>\n",
       "      <td>1</td>\n",
       "      <td>WRIST</td>\n",
       "      <td>patient11189</td>\n",
       "      <td>study1</td>\n",
       "      <td>patient11189study1</td>\n",
       "    </tr>\n",
       "    <tr>\n",
       "      <th>7</th>\n",
       "      <td>MURA-v1.1/valid/XR_WRIST/patient11190/study1_p...</td>\n",
       "      <td>1</td>\n",
       "      <td>WRIST</td>\n",
       "      <td>patient11190</td>\n",
       "      <td>study1</td>\n",
       "      <td>patient11190study1</td>\n",
       "    </tr>\n",
       "    <tr>\n",
       "      <th>8</th>\n",
       "      <td>MURA-v1.1/valid/XR_WRIST/patient11191/study1_p...</td>\n",
       "      <td>1</td>\n",
       "      <td>WRIST</td>\n",
       "      <td>patient11191</td>\n",
       "      <td>study1</td>\n",
       "      <td>patient11191study1</td>\n",
       "    </tr>\n",
       "    <tr>\n",
       "      <th>9</th>\n",
       "      <td>MURA-v1.1/valid/XR_WRIST/patient11192/study1_p...</td>\n",
       "      <td>1</td>\n",
       "      <td>WRIST</td>\n",
       "      <td>patient11192</td>\n",
       "      <td>study1</td>\n",
       "      <td>patient11192study1</td>\n",
       "    </tr>\n",
       "  </tbody>\n",
       "</table>\n",
       "</div>"
      ],
      "text/plain": [
       "                                                path label   part  \\\n",
       "0  MURA-v1.1/valid/XR_WRIST/patient11185/study1_p...     1  WRIST   \n",
       "1  MURA-v1.1/valid/XR_WRIST/patient11186/study1_p...     1  WRIST   \n",
       "2  MURA-v1.1/valid/XR_WRIST/patient11186/study2_p...     1  WRIST   \n",
       "3  MURA-v1.1/valid/XR_WRIST/patient11186/study3_p...     1  WRIST   \n",
       "4  MURA-v1.1/valid/XR_WRIST/patient11187/study1_p...     1  WRIST   \n",
       "5  MURA-v1.1/valid/XR_WRIST/patient11188/study1_p...     1  WRIST   \n",
       "6  MURA-v1.1/valid/XR_WRIST/patient11189/study1_p...     1  WRIST   \n",
       "7  MURA-v1.1/valid/XR_WRIST/patient11190/study1_p...     1  WRIST   \n",
       "8  MURA-v1.1/valid/XR_WRIST/patient11191/study1_p...     1  WRIST   \n",
       "9  MURA-v1.1/valid/XR_WRIST/patient11192/study1_p...     1  WRIST   \n",
       "\n",
       "     patientNum studyNum             caseNum  \n",
       "0  patient11185   study1  patient11185study1  \n",
       "1  patient11186   study1  patient11186study1  \n",
       "2  patient11186   study2  patient11186study2  \n",
       "3  patient11186   study3  patient11186study3  \n",
       "4  patient11187   study1  patient11187study1  \n",
       "5  patient11188   study1  patient11188study1  \n",
       "6  patient11189   study1  patient11189study1  \n",
       "7  patient11190   study1  patient11190study1  \n",
       "8  patient11191   study1  patient11191study1  \n",
       "9  patient11192   study1  patient11192study1  "
      ]
     },
     "execution_count": 14,
     "metadata": {},
     "output_type": "execute_result"
    }
   ],
   "source": [
    "testLabelDf.head(10)"
   ]
  },
  {
   "cell_type": "markdown",
   "metadata": {},
   "source": [
    "## the number of patient in the training/test set  "
   ]
  },
  {
   "cell_type": "code",
   "execution_count": 15,
   "metadata": {
    "scrolled": false
   },
   "outputs": [
    {
     "data": {
      "text/plain": [
       "11184"
      ]
     },
     "execution_count": 15,
     "metadata": {},
     "output_type": "execute_result"
    }
   ],
   "source": [
    "len(trainLabelDf['patientNum'].unique())"
   ]
  },
  {
   "cell_type": "code",
   "execution_count": 16,
   "metadata": {},
   "outputs": [
    {
     "data": {
      "text/plain": [
       "783"
      ]
     },
     "execution_count": 16,
     "metadata": {},
     "output_type": "execute_result"
    }
   ],
   "source": [
    "len(testLabelDf['patientNum'].unique())"
   ]
  },
  {
   "cell_type": "code",
   "execution_count": 17,
   "metadata": {},
   "outputs": [
    {
     "data": {
      "text/plain": [
       "<matplotlib.axes._subplots.AxesSubplot at 0x24913afe8d0>"
      ]
     },
     "execution_count": 17,
     "metadata": {},
     "output_type": "execute_result"
    },
    {
     "data": {
      "image/png": "[encoded data removed]",
      "text/plain": [
       "<Figure size 432x288 with 1 Axes>"
      ]
     },
     "metadata": {
      "needs_background": "light"
     },
     "output_type": "display_data"
    }
   ],
   "source": [
    "plt.title('label difference in training set')\n",
    "sns.countplot(x=trainLabelDf['label'])"
   ]
  },
  {
   "cell_type": "code",
   "execution_count": 18,
   "metadata": {
    "scrolled": true
   },
   "outputs": [
    {
     "data": {
      "text/plain": [
       "<matplotlib.axes._subplots.AxesSubplot at 0x2491433d1d0>"
      ]
     },
     "execution_count": 18,
     "metadata": {},
     "output_type": "execute_result"
    },
    {
     "data": {
      "image/png": "[encoded data removed]",
      "text/plain": [
       "<Figure size 432x288 with 1 Axes>"
      ]
     },
     "metadata": {
      "needs_background": "light"
     },
     "output_type": "display_data"
    }
   ],
   "source": [
    "plt.title('label difference in test set')\n",
    "sns.countplot(x=testLabelDf['label'])"
   ]
  },
  {
   "cell_type": "code",
   "execution_count": null,
   "metadata": {},
   "outputs": [],
   "source": []
  },
  {
   "cell_type": "code",
   "execution_count": 19,
   "metadata": {
    "scrolled": false
   },
   "outputs": [
    {
     "data": {
      "text/plain": [
       "<matplotlib.axes._subplots.AxesSubplot at 0x249143a4b38>"
      ]
     },
     "execution_count": 19,
     "metadata": {},
     "output_type": "execute_result"
    },
    {
     "data": {
      "image/png": "[encoded data removed]",
      "text/plain": [
       "<Figure size 720x576 with 1 Axes>"
      ]
     },
     "metadata": {
      "needs_background": "light"
     },
     "output_type": "display_data"
    }
   ],
   "source": [
    "plt.figure(figsize=(10,8))\n",
    "plt.title('label difference in each body part (training set)')\n",
    "sns.countplot(data=trainLabelDf,x='part',hue='label')"
   ]
  },
  {
   "cell_type": "code",
   "execution_count": 20,
   "metadata": {},
   "outputs": [
    {
     "data": {
      "text/plain": [
       "<matplotlib.axes._subplots.AxesSubplot at 0x249143a44a8>"
      ]
     },
     "execution_count": 20,
     "metadata": {},
     "output_type": "execute_result"
    },
    {
     "data": {
      "image/png": "[encoded data removed]",
      "text/plain": [
       "<Figure size 720x576 with 1 Axes>"
      ]
     },
     "metadata": {
      "needs_background": "light"
     },
     "output_type": "display_data"
    }
   ],
   "source": [
    "plt.figure(figsize=(10,8))\n",
    "plt.title('label difference in each body part (test set)')\n",
    "sns.countplot(data=testLabelDf,x='part',hue='label')"
   ]
  },
  {
   "cell_type": "code",
   "execution_count": 21,
   "metadata": {},
   "outputs": [
    {
     "data": {
      "text/plain": [
       "<matplotlib.axes._subplots.AxesSubplot at 0x24914471c88>"
      ]
     },
     "execution_count": 21,
     "metadata": {},
     "output_type": "execute_result"
    },
    {
     "data": {
      "image/png": "[encoded data removed]",
      "text/plain": [
       "<Figure size 720x576 with 1 Axes>"
      ]
     },
     "metadata": {
      "needs_background": "light"
     },
     "output_type": "display_data"
    }
   ],
   "source": [
    "plt.figure(figsize=(10,8))\n",
    "plt.title('label difference in study (training set)')\n",
    "sns.countplot(data=trainLabelDf,x='studyNum',hue='label')"
   ]
  },
  {
   "cell_type": "code",
   "execution_count": 22,
   "metadata": {
    "scrolled": false
   },
   "outputs": [
    {
     "data": {
      "text/plain": [
       "<matplotlib.axes._subplots.AxesSubplot at 0x249144de7b8>"
      ]
     },
     "execution_count": 22,
     "metadata": {},
     "output_type": "execute_result"
    },
    {
     "data": {
      "image/png": "[encoded data removed]",
      "text/plain": [
       "<Figure size 720x576 with 1 Axes>"
      ]
     },
     "metadata": {
      "needs_background": "light"
     },
     "output_type": "display_data"
    }
   ],
   "source": [
    "plt.figure(figsize=(10,8))\n",
    "plt.title('label difference in study (test set)')\n",
    "sns.countplot(data=testLabelDf,x='studyNum',hue='label')"
   ]
  },
  {
   "cell_type": "code",
   "execution_count": null,
   "metadata": {},
   "outputs": [],
   "source": []
  },
  {
   "cell_type": "code",
   "execution_count": null,
   "metadata": {},
   "outputs": [],
   "source": []
  },
  {
   "cell_type": "markdown",
   "metadata": {},
   "source": [
    "### Plot a sample radiographs from training and validation set"
   ]
  },
  {
   "cell_type": "code",
   "execution_count": 23,
   "metadata": {
    "scrolled": true
   },
   "outputs": [
    {
     "name": "stdout",
     "output_type": "stream",
     "text": [
      "(512, 380, 3) ['XR_SHOULDER', 'study1_positive']\n"
     ]
    },
    {
     "data": {
      "image/png": "[encoded data removed]",
      "text/plain": [
       "<Figure size 432x288 with 1 Axes>"
      ]
     },
     "metadata": {
      "needs_background": "light"
     },
     "output_type": "display_data"
    }
   ],
   "source": [
    "path=trainImgDf.values[0][0]\n",
    "img=cv2.imread(path)\n",
    "plt.imshow(img)\n",
    "print(img.shape,path.split('/')[2:5:2])"
   ]
  },
  {
   "cell_type": "code",
   "execution_count": 24,
   "metadata": {},
   "outputs": [
    {
     "name": "stdout",
     "output_type": "stream",
     "text": [
      "(512, 405, 3) ['XR_HAND', 'study1_negative']\n"
     ]
    },
    {
     "data": {
      "image/png": "[encoded data removed]",
      "text/plain": [
       "<Figure size 432x288 with 1 Axes>"
      ]
     },
     "metadata": {
      "needs_background": "light"
     },
     "output_type": "display_data"
    }
   ],
   "source": [
    "path=trainImgDf.values[-1][0]\n",
    "img=cv2.imread(path)\n",
    "plt.imshow(img)\n",
    "print(img.shape,path.split('/')[2:5:2])"
   ]
  },
  {
   "cell_type": "code",
   "execution_count": null,
   "metadata": {},
   "outputs": [],
   "source": []
  },
  {
   "cell_type": "markdown",
   "metadata": {},
   "source": [
    "Patients might have multiple studies for a given study type, like a patient may have two studies for wrist, independent of each other. <br> Let's have a look at such cases, **NOTE** here study count = number of patients which have same number of studies"
   ]
  },
  {
   "cell_type": "code",
   "execution_count": 25,
   "metadata": {},
   "outputs": [],
   "source": [
    "trainImgDf['part']=trainImgDf['path'].apply(lambda x: str(x.split('/')[2])[3:])\n",
    "trainImgDf['patientNum']=trainImgDf['path'].apply(lambda x: str(x.split('/')[3]))\n",
    "trainImgDf['studyNum']=trainImgDf['path'].apply(lambda x: str(x.split('/')[4])[:6])\n",
    "trainImgDf['caseNum']=trainImgDf[['patientNum','studyNum']].apply(lambda x: ''.join(x), axis=1)\n",
    "\n",
    "\n",
    "\n",
    "testImgDf['part']=testImgDf['path'].apply(lambda x: str(x.split('/')[2])[3:])\n",
    "testImgDf['patientNum']=testImgDf['path'].apply(lambda x: str(x.split('/')[3]))\n",
    "testImgDf['studyNum']=testImgDf['path'].apply(lambda x: str(x.split('/')[4])[:6])\n",
    "testImgDf['caseNum']=testImgDf[['patientNum','studyNum']].apply(lambda x: ''.join(x), axis=1)"
   ]
  },
  {
   "cell_type": "code",
   "execution_count": 26,
   "metadata": {},
   "outputs": [
    {
     "data": {
      "text/html": [
       "<div>\n",
       "<style scoped>\n",
       "    .dataframe tbody tr th:only-of-type {\n",
       "        vertical-align: middle;\n",
       "    }\n",
       "\n",
       "    .dataframe tbody tr th {\n",
       "        vertical-align: top;\n",
       "    }\n",
       "\n",
       "    .dataframe thead th {\n",
       "        text-align: right;\n",
       "    }\n",
       "</style>\n",
       "<table border=\"1\" class=\"dataframe\">\n",
       "  <thead>\n",
       "    <tr style=\"text-align: right;\">\n",
       "      <th></th>\n",
       "      <th>path</th>\n",
       "      <th>part</th>\n",
       "      <th>patientNum</th>\n",
       "      <th>studyNum</th>\n",
       "      <th>caseNum</th>\n",
       "    </tr>\n",
       "  </thead>\n",
       "  <tbody>\n",
       "    <tr>\n",
       "      <th>0</th>\n",
       "      <td>MURA-v1.1/train/XR_SHOULDER/patient00001/study...</td>\n",
       "      <td>SHOULDER</td>\n",
       "      <td>patient00001</td>\n",
       "      <td>study1</td>\n",
       "      <td>patient00001study1</td>\n",
       "    </tr>\n",
       "    <tr>\n",
       "      <th>1</th>\n",
       "      <td>MURA-v1.1/train/XR_SHOULDER/patient00001/study...</td>\n",
       "      <td>SHOULDER</td>\n",
       "      <td>patient00001</td>\n",
       "      <td>study1</td>\n",
       "      <td>patient00001study1</td>\n",
       "    </tr>\n",
       "    <tr>\n",
       "      <th>2</th>\n",
       "      <td>MURA-v1.1/train/XR_SHOULDER/patient00001/study...</td>\n",
       "      <td>SHOULDER</td>\n",
       "      <td>patient00001</td>\n",
       "      <td>study1</td>\n",
       "      <td>patient00001study1</td>\n",
       "    </tr>\n",
       "    <tr>\n",
       "      <th>3</th>\n",
       "      <td>MURA-v1.1/train/XR_SHOULDER/patient00002/study...</td>\n",
       "      <td>SHOULDER</td>\n",
       "      <td>patient00002</td>\n",
       "      <td>study1</td>\n",
       "      <td>patient00002study1</td>\n",
       "    </tr>\n",
       "    <tr>\n",
       "      <th>4</th>\n",
       "      <td>MURA-v1.1/train/XR_SHOULDER/patient00002/study...</td>\n",
       "      <td>SHOULDER</td>\n",
       "      <td>patient00002</td>\n",
       "      <td>study1</td>\n",
       "      <td>patient00002study1</td>\n",
       "    </tr>\n",
       "  </tbody>\n",
       "</table>\n",
       "</div>"
      ],
      "text/plain": [
       "                                                path      part    patientNum  \\\n",
       "0  MURA-v1.1/train/XR_SHOULDER/patient00001/study...  SHOULDER  patient00001   \n",
       "1  MURA-v1.1/train/XR_SHOULDER/patient00001/study...  SHOULDER  patient00001   \n",
       "2  MURA-v1.1/train/XR_SHOULDER/patient00001/study...  SHOULDER  patient00001   \n",
       "3  MURA-v1.1/train/XR_SHOULDER/patient00002/study...  SHOULDER  patient00002   \n",
       "4  MURA-v1.1/train/XR_SHOULDER/patient00002/study...  SHOULDER  patient00002   \n",
       "\n",
       "  studyNum             caseNum  \n",
       "0   study1  patient00001study1  \n",
       "1   study1  patient00001study1  \n",
       "2   study1  patient00001study1  \n",
       "3   study1  patient00002study1  \n",
       "4   study1  patient00002study1  "
      ]
     },
     "execution_count": 26,
     "metadata": {},
     "output_type": "execute_result"
    }
   ],
   "source": [
    "trainImgDf.head()"
   ]
  },
  {
   "cell_type": "code",
   "execution_count": 27,
   "metadata": {},
   "outputs": [
    {
     "data": {
      "text/plain": [
       "WRIST       9752\n",
       "SHOULDER    8379\n",
       "HAND        5543\n",
       "FINGER      5106\n",
       "ELBOW       4931\n",
       "FOREARM     1825\n",
       "HUMERUS     1272\n",
       "Name: part, dtype: int64"
      ]
     },
     "execution_count": 27,
     "metadata": {},
     "output_type": "execute_result"
    }
   ],
   "source": [
    "trainImgDf['part'].value_counts()"
   ]
  },
  {
   "cell_type": "code",
   "execution_count": 28,
   "metadata": {},
   "outputs": [
    {
     "data": {
      "text/html": [
       "<div>\n",
       "<style scoped>\n",
       "    .dataframe tbody tr th:only-of-type {\n",
       "        vertical-align: middle;\n",
       "    }\n",
       "\n",
       "    .dataframe tbody tr th {\n",
       "        vertical-align: top;\n",
       "    }\n",
       "\n",
       "    .dataframe thead th {\n",
       "        text-align: right;\n",
       "    }\n",
       "</style>\n",
       "<table border=\"1\" class=\"dataframe\">\n",
       "  <thead>\n",
       "    <tr style=\"text-align: right;\">\n",
       "      <th></th>\n",
       "      <th>path</th>\n",
       "      <th>part</th>\n",
       "      <th>patientNum</th>\n",
       "      <th>studyNum</th>\n",
       "      <th>caseNum</th>\n",
       "    </tr>\n",
       "  </thead>\n",
       "  <tbody>\n",
       "    <tr>\n",
       "      <th>0</th>\n",
       "      <td>MURA-v1.1/valid/XR_WRIST/patient11185/study1_p...</td>\n",
       "      <td>WRIST</td>\n",
       "      <td>patient11185</td>\n",
       "      <td>study1</td>\n",
       "      <td>patient11185study1</td>\n",
       "    </tr>\n",
       "    <tr>\n",
       "      <th>1</th>\n",
       "      <td>MURA-v1.1/valid/XR_WRIST/patient11185/study1_p...</td>\n",
       "      <td>WRIST</td>\n",
       "      <td>patient11185</td>\n",
       "      <td>study1</td>\n",
       "      <td>patient11185study1</td>\n",
       "    </tr>\n",
       "    <tr>\n",
       "      <th>2</th>\n",
       "      <td>MURA-v1.1/valid/XR_WRIST/patient11185/study1_p...</td>\n",
       "      <td>WRIST</td>\n",
       "      <td>patient11185</td>\n",
       "      <td>study1</td>\n",
       "      <td>patient11185study1</td>\n",
       "    </tr>\n",
       "    <tr>\n",
       "      <th>3</th>\n",
       "      <td>MURA-v1.1/valid/XR_WRIST/patient11185/study1_p...</td>\n",
       "      <td>WRIST</td>\n",
       "      <td>patient11185</td>\n",
       "      <td>study1</td>\n",
       "      <td>patient11185study1</td>\n",
       "    </tr>\n",
       "    <tr>\n",
       "      <th>4</th>\n",
       "      <td>MURA-v1.1/valid/XR_WRIST/patient11186/study1_p...</td>\n",
       "      <td>WRIST</td>\n",
       "      <td>patient11186</td>\n",
       "      <td>study1</td>\n",
       "      <td>patient11186study1</td>\n",
       "    </tr>\n",
       "  </tbody>\n",
       "</table>\n",
       "</div>"
      ],
      "text/plain": [
       "                                                path   part    patientNum  \\\n",
       "0  MURA-v1.1/valid/XR_WRIST/patient11185/study1_p...  WRIST  patient11185   \n",
       "1  MURA-v1.1/valid/XR_WRIST/patient11185/study1_p...  WRIST  patient11185   \n",
       "2  MURA-v1.1/valid/XR_WRIST/patient11185/study1_p...  WRIST  patient11185   \n",
       "3  MURA-v1.1/valid/XR_WRIST/patient11185/study1_p...  WRIST  patient11185   \n",
       "4  MURA-v1.1/valid/XR_WRIST/patient11186/study1_p...  WRIST  patient11186   \n",
       "\n",
       "  studyNum             caseNum  \n",
       "0   study1  patient11185study1  \n",
       "1   study1  patient11185study1  \n",
       "2   study1  patient11185study1  \n",
       "3   study1  patient11185study1  \n",
       "4   study1  patient11186study1  "
      ]
     },
     "execution_count": 28,
     "metadata": {},
     "output_type": "execute_result"
    }
   ],
   "source": [
    "testImgDf.head()"
   ]
  },
  {
   "cell_type": "code",
   "execution_count": null,
   "metadata": {},
   "outputs": [],
   "source": []
  },
  {
   "cell_type": "code",
   "execution_count": 29,
   "metadata": {},
   "outputs": [
    {
     "data": {
      "text/plain": [
       "<matplotlib.axes._subplots.AxesSubplot at 0x2491464f438>"
      ]
     },
     "execution_count": 29,
     "metadata": {},
     "output_type": "execute_result"
    },
    {
     "data": {
      "image/png": "[encoded data removed]",
      "text/plain": [
       "<Figure size 720x576 with 1 Axes>"
      ]
     },
     "metadata": {
      "needs_background": "light"
     },
     "output_type": "display_data"
    }
   ],
   "source": [
    "plt.figure(figsize=(10,8))\n",
    "plt.title('number of image in each body part (training set)')\n",
    "sns.countplot(data=trainImgDf,x='part')"
   ]
  },
  {
   "cell_type": "code",
   "execution_count": 30,
   "metadata": {
    "scrolled": false
   },
   "outputs": [
    {
     "data": {
      "text/plain": [
       "<matplotlib.axes._subplots.AxesSubplot at 0x2491452d550>"
      ]
     },
     "execution_count": 30,
     "metadata": {},
     "output_type": "execute_result"
    },
    {
     "data": {
      "image/png": "[encoded data removed]",
      "text/plain": [
       "<Figure size 720x576 with 1 Axes>"
      ]
     },
     "metadata": {
      "needs_background": "light"
     },
     "output_type": "display_data"
    }
   ],
   "source": [
    "plt.figure(figsize=(10,8))\n",
    "plt.title('number of image in each body part (test set)')\n",
    "sns.countplot(data=testImgDf,x='part')"
   ]
  },
  {
   "cell_type": "markdown",
   "metadata": {},
   "source": [
    "### within each body type, we display the numeber of images per study cases "
   ]
  },
  {
   "cell_type": "code",
   "execution_count": 31,
   "metadata": {
    "scrolled": false
   },
   "outputs": [
    {
     "data": {
      "image/png": "[encoded data removed]",
      "text/plain": [
       "<Figure size 360x1440 with 1 Axes>"
      ]
     },
     "metadata": {
      "needs_background": "light"
     },
     "output_type": "display_data"
    },
    {
     "data": {
      "image/png": "[encoded data removed]",
      "text/plain": [
       "<Figure size 360x1440 with 1 Axes>"
      ]
     },
     "metadata": {
      "needs_background": "light"
     },
     "output_type": "display_data"
    },
    {
     "data": {
      "image/png": "[encoded data removed]",
      "text/plain": [
       "<Figure size 360x1440 with 1 Axes>"
      ]
     },
     "metadata": {
      "needs_background": "light"
     },
     "output_type": "display_data"
    },
    {
     "data": {
      "image/png": "[encoded data removed]",
      "text/plain": [
       "<Figure size 360x1440 with 1 Axes>"
      ]
     },
     "metadata": {
      "needs_background": "light"
     },
     "output_type": "display_data"
    },
    {
     "data": {
      "image/png": "[encoded data removed]",
      "text/plain": [
       "<Figure size 360x1440 with 1 Axes>"
      ]
     },
     "metadata": {
      "needs_background": "light"
     },
     "output_type": "display_data"
    },
    {
     "data": {
      "image/png": "[encoded data removed]",
      "text/plain": [
       "<Figure size 360x1440 with 1 Axes>"
      ]
     },
     "metadata": {
      "needs_background": "light"
     },
     "output_type": "display_data"
    },
    {
     "data": {
      "image/png": "[encoded data removed]",
      "text/plain": [
       "<Figure size 360x1440 with 1 Axes>"
      ]
     },
     "metadata": {
      "needs_background": "light"
     },
     "output_type": "display_data"
    }
   ],
   "source": [
    "bodyType = trainImgDf['part'].unique()\n",
    "for idx,body in enumerate(bodyType):\n",
    "    plt.figure(figsize=(5,20))\n",
    "    ax = plt.subplot(711+idx)\n",
    "    bodyCase = trainImgDf[trainImgDf['part'] == body]\n",
    "    plt.title('number of images of each study in %s (training set)  ' % body.lower())\n",
    "    sns.countplot(bodyCase['caseNum'].value_counts())\n"
   ]
  },
  {
   "cell_type": "code",
   "execution_count": 32,
   "metadata": {
    "scrolled": false
   },
   "outputs": [
    {
     "data": {
      "image/png": "[encoded data removed]",
      "text/plain": [
       "<Figure size 360x1440 with 1 Axes>"
      ]
     },
     "metadata": {
      "needs_background": "light"
     },
     "output_type": "display_data"
    },
    {
     "data": {
      "image/png": "[encoded data removed]",
      "text/plain": [
       "<Figure size 360x1440 with 1 Axes>"
      ]
     },
     "metadata": {
      "needs_background": "light"
     },
     "output_type": "display_data"
    },
    {
     "data": {
      "image/png": "[encoded data removed]",
      "text/plain": [
       "<Figure size 360x1440 with 1 Axes>"
      ]
     },
     "metadata": {
      "needs_background": "light"
     },
     "output_type": "display_data"
    },
    {
     "data": {
      "image/png": "[encoded data removed]",
      "text/plain": [
       "<Figure size 360x1440 with 1 Axes>"
      ]
     },
     "metadata": {
      "needs_background": "light"
     },
     "output_type": "display_data"
    },
    {
     "data": {
      "image/png": "[encoded data removed]",
      "text/plain": [
       "<Figure size 360x1440 with 1 Axes>"
      ]
     },
     "metadata": {
      "needs_background": "light"
     },
     "output_type": "display_data"
    },
    {
     "data": {
      "image/png": "[encoded data removed]",
      "text/plain": [
       "<Figure size 360x1440 with 1 Axes>"
      ]
     },
     "metadata": {
      "needs_background": "light"
     },
     "output_type": "display_data"
    },
    {
     "data": {
      "image/png": "[encoded data removed]",
      "text/plain": [
       "<Figure size 360x1440 with 1 Axes>"
      ]
     },
     "metadata": {
      "needs_background": "light"
     },
     "output_type": "display_data"
    }
   ],
   "source": [
    "bodyType = testImgDf['part'].unique()\n",
    "for idx,body in enumerate(bodyType):\n",
    "    plt.figure(figsize=(5,20))\n",
    "    ax = plt.subplot(711+idx)\n",
    "    bodyCase = testImgDf[testImgDf['part'] == body]\n",
    "    plt.title('number of images of each study in %s (test set)  ' % body.lower())\n",
    "    sns.countplot(bodyCase['caseNum'].value_counts())"
   ]
  },
  {
   "cell_type": "markdown",
   "metadata": {},
   "source": [
    "most of the study cases have more than one images, which will make the predication more difficult. The spread of image is related to the body type."
   ]
  },
  {
   "cell_type": "markdown",
   "metadata": {},
   "source": [
    "## Train CNN for the images of hand"
   ]
  },
  {
   "cell_type": "markdown",
   "metadata": {},
   "source": [
    "##### Extract only the dataframe for hands"
   ]
  },
  {
   "cell_type": "code",
   "execution_count": 33,
   "metadata": {},
   "outputs": [
    {
     "data": {
      "text/plain": [
       "0    1\n",
       "1    1\n",
       "2    1\n",
       "3    1\n",
       "4    1\n",
       "Name: label, dtype: object"
      ]
     },
     "execution_count": 33,
     "metadata": {},
     "output_type": "execute_result"
    }
   ],
   "source": [
    "trainLabelDf['label'][0:5]"
   ]
  },
  {
   "cell_type": "code",
   "execution_count": 34,
   "metadata": {},
   "outputs": [],
   "source": [
    "# extract part of 'HAND' for training\n",
    "\n",
    "train_hand_img = trainImgDf[trainImgDf['part'] == 'HAND']\n",
    "train_hand_label = trainLabelDf[trainLabelDf['part'] == 'HAND']\n",
    "test_hand_img = testImgDf[testImgDf['part'] == 'HAND']\n",
    "test_hand_label = testLabelDf[testLabelDf['part'] == 'HAND']"
   ]
  },
  {
   "cell_type": "code",
   "execution_count": 35,
   "metadata": {},
   "outputs": [
    {
     "data": {
      "text/plain": [
       "path          2018\n",
       "label         2018\n",
       "part          2018\n",
       "patientNum    2018\n",
       "studyNum      2018\n",
       "caseNum       2018\n",
       "dtype: int64"
      ]
     },
     "execution_count": 35,
     "metadata": {},
     "output_type": "execute_result"
    }
   ],
   "source": [
    "train_hand_label.count()"
   ]
  },
  {
   "cell_type": "markdown",
   "metadata": {},
   "source": [
    "### Prepocessing \n",
    "\n",
    "   1. Resizing the image with same resolution (use one channel)\n",
    "   2. Normalization (in Keras)\n",
    "   3. Taking the average of the image intensities within one case for training.\n",
    "   "
   ]
  },
  {
   "cell_type": "markdown",
   "metadata": {},
   "source": [
    "###### Output one color channel."
   ]
  },
  {
   "cell_type": "code",
   "execution_count": 36,
   "metadata": {},
   "outputs": [
    {
     "data": {
      "text/plain": [
       "(512, 405)"
      ]
     },
     "execution_count": 36,
     "metadata": {},
     "output_type": "execute_result"
    },
    {
     "data": {
      "image/png": "[encoded data removed]",
      "text/plain": [
       "<Figure size 432x288 with 1 Axes>"
      ]
     },
     "metadata": {
      "needs_background": "light"
     },
     "output_type": "display_data"
    }
   ],
   "source": [
    "Path=trainImgDf.values[-1][0]\n",
    "img=cv2.imread(Path)\n",
    "plt.imshow(img[:,:,2])    #the color is not important to distinguish\n",
    "img[:,:,2].shape   ## just a test to make sure they give same x-ray images (independant of color)"
   ]
  },
  {
   "cell_type": "code",
   "execution_count": null,
   "metadata": {},
   "outputs": [],
   "source": []
  },
  {
   "cell_type": "code",
   "execution_count": 102,
   "metadata": {},
   "outputs": [],
   "source": [
    "## function to resize and normalize the image\n",
    "\n",
    "def resize_and_normalization(Path):\n",
    "    img=cv2.imread(Path)\n",
    "    \n",
    "    # Use one channel (or grayscale)\n",
    "    img = cv2.cvtColor(img, cv2.COLOR_BGR2GRAY)\n",
    "    \n",
    "    # Sizing down the resolution. (224, 224) is used in the article\n",
    "    img=cv2.resize(img,(150,150))\n",
    "    \n",
    "    # \n",
    "    img=np.array(img)\n",
    "   # img=img\n",
    "    \n",
    "    return img"
   ]
  },
  {
   "cell_type": "code",
   "execution_count": 103,
   "metadata": {},
   "outputs": [
    {
     "data": {
      "text/plain": [
       "(150, 150)"
      ]
     },
     "execution_count": 103,
     "metadata": {},
     "output_type": "execute_result"
    }
   ],
   "source": [
    "resize_and_normalization(trainLabelDf['path'][1]+'image1.png').shape\n"
   ]
  },
  {
   "cell_type": "code",
   "execution_count": 104,
   "metadata": {
    "scrolled": true
   },
   "outputs": [
    {
     "data": {
      "text/html": [
       "<div>\n",
       "<style scoped>\n",
       "    .dataframe tbody tr th:only-of-type {\n",
       "        vertical-align: middle;\n",
       "    }\n",
       "\n",
       "    .dataframe tbody tr th {\n",
       "        vertical-align: top;\n",
       "    }\n",
       "\n",
       "    .dataframe thead th {\n",
       "        text-align: right;\n",
       "    }\n",
       "</style>\n",
       "<table border=\"1\" class=\"dataframe\">\n",
       "  <thead>\n",
       "    <tr style=\"text-align: right;\">\n",
       "      <th></th>\n",
       "      <th>path</th>\n",
       "      <th>label</th>\n",
       "      <th>part</th>\n",
       "      <th>patientNum</th>\n",
       "      <th>studyNum</th>\n",
       "      <th>caseNum</th>\n",
       "      <th>avgpath</th>\n",
       "    </tr>\n",
       "  </thead>\n",
       "  <tbody>\n",
       "    <tr>\n",
       "      <th>11439</th>\n",
       "      <td>MURA-v1.1/train/XR_HAND/patient09734/study1_po...</td>\n",
       "      <td>1</td>\n",
       "      <td>HAND</td>\n",
       "      <td>patient09734</td>\n",
       "      <td>study1</td>\n",
       "      <td>patient09734study1</td>\n",
       "      <td>MURA-v1.1/train/XR_HAND/patient09734/study1_po...</td>\n",
       "    </tr>\n",
       "    <tr>\n",
       "      <th>11440</th>\n",
       "      <td>MURA-v1.1/train/XR_HAND/patient09735/study1_po...</td>\n",
       "      <td>1</td>\n",
       "      <td>HAND</td>\n",
       "      <td>patient09735</td>\n",
       "      <td>study1</td>\n",
       "      <td>patient09735study1</td>\n",
       "      <td>MURA-v1.1/train/XR_HAND/patient09735/study1_po...</td>\n",
       "    </tr>\n",
       "    <tr>\n",
       "      <th>11441</th>\n",
       "      <td>MURA-v1.1/train/XR_HAND/patient07365/study1_po...</td>\n",
       "      <td>1</td>\n",
       "      <td>HAND</td>\n",
       "      <td>patient07365</td>\n",
       "      <td>study1</td>\n",
       "      <td>patient07365study1</td>\n",
       "      <td>MURA-v1.1/train/XR_HAND/patient07365/study1_po...</td>\n",
       "    </tr>\n",
       "    <tr>\n",
       "      <th>11442</th>\n",
       "      <td>MURA-v1.1/train/XR_HAND/patient09736/study1_po...</td>\n",
       "      <td>1</td>\n",
       "      <td>HAND</td>\n",
       "      <td>patient09736</td>\n",
       "      <td>study1</td>\n",
       "      <td>patient09736study1</td>\n",
       "      <td>MURA-v1.1/train/XR_HAND/patient09736/study1_po...</td>\n",
       "    </tr>\n",
       "    <tr>\n",
       "      <th>11443</th>\n",
       "      <td>MURA-v1.1/train/XR_HAND/patient09737/study1_po...</td>\n",
       "      <td>1</td>\n",
       "      <td>HAND</td>\n",
       "      <td>patient09737</td>\n",
       "      <td>study1</td>\n",
       "      <td>patient09737study1</td>\n",
       "      <td>MURA-v1.1/train/XR_HAND/patient09737/study1_po...</td>\n",
       "    </tr>\n",
       "    <tr>\n",
       "      <th>11444</th>\n",
       "      <td>MURA-v1.1/train/XR_HAND/patient08710/study1_po...</td>\n",
       "      <td>1</td>\n",
       "      <td>HAND</td>\n",
       "      <td>patient08710</td>\n",
       "      <td>study1</td>\n",
       "      <td>patient08710study1</td>\n",
       "      <td>MURA-v1.1/train/XR_HAND/patient08710/study1_po...</td>\n",
       "    </tr>\n",
       "    <tr>\n",
       "      <th>11445</th>\n",
       "      <td>MURA-v1.1/train/XR_HAND/patient09738/study1_po...</td>\n",
       "      <td>1</td>\n",
       "      <td>HAND</td>\n",
       "      <td>patient09738</td>\n",
       "      <td>study1</td>\n",
       "      <td>patient09738study1</td>\n",
       "      <td>MURA-v1.1/train/XR_HAND/patient09738/study1_po...</td>\n",
       "    </tr>\n",
       "    <tr>\n",
       "      <th>11446</th>\n",
       "      <td>MURA-v1.1/train/XR_HAND/patient09739/study1_po...</td>\n",
       "      <td>1</td>\n",
       "      <td>HAND</td>\n",
       "      <td>patient09739</td>\n",
       "      <td>study1</td>\n",
       "      <td>patient09739study1</td>\n",
       "      <td>MURA-v1.1/train/XR_HAND/patient09739/study1_po...</td>\n",
       "    </tr>\n",
       "    <tr>\n",
       "      <th>11447</th>\n",
       "      <td>MURA-v1.1/train/XR_HAND/patient09740/study1_po...</td>\n",
       "      <td>1</td>\n",
       "      <td>HAND</td>\n",
       "      <td>patient09740</td>\n",
       "      <td>study1</td>\n",
       "      <td>patient09740study1</td>\n",
       "      <td>MURA-v1.1/train/XR_HAND/patient09740/study1_po...</td>\n",
       "    </tr>\n",
       "    <tr>\n",
       "      <th>11448</th>\n",
       "      <td>MURA-v1.1/train/XR_HAND/patient09740/study2_ne...</td>\n",
       "      <td>0</td>\n",
       "      <td>HAND</td>\n",
       "      <td>patient09740</td>\n",
       "      <td>study2</td>\n",
       "      <td>patient09740study2</td>\n",
       "      <td>MURA-v1.1/train/XR_HAND/patient09740/study2_ne...</td>\n",
       "    </tr>\n",
       "    <tr>\n",
       "      <th>11449</th>\n",
       "      <td>MURA-v1.1/train/XR_HAND/patient07048/study1_po...</td>\n",
       "      <td>1</td>\n",
       "      <td>HAND</td>\n",
       "      <td>patient07048</td>\n",
       "      <td>study1</td>\n",
       "      <td>patient07048study1</td>\n",
       "      <td>MURA-v1.1/train/XR_HAND/patient07048/study1_po...</td>\n",
       "    </tr>\n",
       "    <tr>\n",
       "      <th>11450</th>\n",
       "      <td>MURA-v1.1/train/XR_HAND/patient09741/study1_po...</td>\n",
       "      <td>1</td>\n",
       "      <td>HAND</td>\n",
       "      <td>patient09741</td>\n",
       "      <td>study1</td>\n",
       "      <td>patient09741study1</td>\n",
       "      <td>MURA-v1.1/train/XR_HAND/patient09741/study1_po...</td>\n",
       "    </tr>\n",
       "    <tr>\n",
       "      <th>11451</th>\n",
       "      <td>MURA-v1.1/train/XR_HAND/patient09742/study1_po...</td>\n",
       "      <td>1</td>\n",
       "      <td>HAND</td>\n",
       "      <td>patient09742</td>\n",
       "      <td>study1</td>\n",
       "      <td>patient09742study1</td>\n",
       "      <td>MURA-v1.1/train/XR_HAND/patient09742/study1_po...</td>\n",
       "    </tr>\n",
       "    <tr>\n",
       "      <th>11452</th>\n",
       "      <td>MURA-v1.1/train/XR_HAND/patient09743/study1_po...</td>\n",
       "      <td>1</td>\n",
       "      <td>HAND</td>\n",
       "      <td>patient09743</td>\n",
       "      <td>study1</td>\n",
       "      <td>patient09743study1</td>\n",
       "      <td>MURA-v1.1/train/XR_HAND/patient09743/study1_po...</td>\n",
       "    </tr>\n",
       "    <tr>\n",
       "      <th>11453</th>\n",
       "      <td>MURA-v1.1/train/XR_HAND/patient09744/study1_po...</td>\n",
       "      <td>1</td>\n",
       "      <td>HAND</td>\n",
       "      <td>patient09744</td>\n",
       "      <td>study1</td>\n",
       "      <td>patient09744study1</td>\n",
       "      <td>MURA-v1.1/train/XR_HAND/patient09744/study1_po...</td>\n",
       "    </tr>\n",
       "    <tr>\n",
       "      <th>11454</th>\n",
       "      <td>MURA-v1.1/train/XR_HAND/patient09745/study1_po...</td>\n",
       "      <td>1</td>\n",
       "      <td>HAND</td>\n",
       "      <td>patient09745</td>\n",
       "      <td>study1</td>\n",
       "      <td>patient09745study1</td>\n",
       "      <td>MURA-v1.1/train/XR_HAND/patient09745/study1_po...</td>\n",
       "    </tr>\n",
       "    <tr>\n",
       "      <th>11455</th>\n",
       "      <td>MURA-v1.1/train/XR_HAND/patient09746/study1_po...</td>\n",
       "      <td>1</td>\n",
       "      <td>HAND</td>\n",
       "      <td>patient09746</td>\n",
       "      <td>study1</td>\n",
       "      <td>patient09746study1</td>\n",
       "      <td>MURA-v1.1/train/XR_HAND/patient09746/study1_po...</td>\n",
       "    </tr>\n",
       "    <tr>\n",
       "      <th>11456</th>\n",
       "      <td>MURA-v1.1/train/XR_HAND/patient09747/study1_po...</td>\n",
       "      <td>1</td>\n",
       "      <td>HAND</td>\n",
       "      <td>patient09747</td>\n",
       "      <td>study1</td>\n",
       "      <td>patient09747study1</td>\n",
       "      <td>MURA-v1.1/train/XR_HAND/patient09747/study1_po...</td>\n",
       "    </tr>\n",
       "    <tr>\n",
       "      <th>11457</th>\n",
       "      <td>MURA-v1.1/train/XR_HAND/patient09748/study1_po...</td>\n",
       "      <td>1</td>\n",
       "      <td>HAND</td>\n",
       "      <td>patient09748</td>\n",
       "      <td>study1</td>\n",
       "      <td>patient09748study1</td>\n",
       "      <td>MURA-v1.1/train/XR_HAND/patient09748/study1_po...</td>\n",
       "    </tr>\n",
       "    <tr>\n",
       "      <th>11458</th>\n",
       "      <td>MURA-v1.1/train/XR_HAND/patient09749/study1_po...</td>\n",
       "      <td>1</td>\n",
       "      <td>HAND</td>\n",
       "      <td>patient09749</td>\n",
       "      <td>study1</td>\n",
       "      <td>patient09749study1</td>\n",
       "      <td>MURA-v1.1/train/XR_HAND/patient09749/study1_po...</td>\n",
       "    </tr>\n",
       "    <tr>\n",
       "      <th>11459</th>\n",
       "      <td>MURA-v1.1/train/XR_HAND/patient09750/study1_po...</td>\n",
       "      <td>1</td>\n",
       "      <td>HAND</td>\n",
       "      <td>patient09750</td>\n",
       "      <td>study1</td>\n",
       "      <td>patient09750study1</td>\n",
       "      <td>MURA-v1.1/train/XR_HAND/patient09750/study1_po...</td>\n",
       "    </tr>\n",
       "    <tr>\n",
       "      <th>11460</th>\n",
       "      <td>MURA-v1.1/train/XR_HAND/patient09751/study1_po...</td>\n",
       "      <td>1</td>\n",
       "      <td>HAND</td>\n",
       "      <td>patient09751</td>\n",
       "      <td>study1</td>\n",
       "      <td>patient09751study1</td>\n",
       "      <td>MURA-v1.1/train/XR_HAND/patient09751/study1_po...</td>\n",
       "    </tr>\n",
       "    <tr>\n",
       "      <th>11461</th>\n",
       "      <td>MURA-v1.1/train/XR_HAND/patient09752/study1_po...</td>\n",
       "      <td>1</td>\n",
       "      <td>HAND</td>\n",
       "      <td>patient09752</td>\n",
       "      <td>study1</td>\n",
       "      <td>patient09752study1</td>\n",
       "      <td>MURA-v1.1/train/XR_HAND/patient09752/study1_po...</td>\n",
       "    </tr>\n",
       "    <tr>\n",
       "      <th>11462</th>\n",
       "      <td>MURA-v1.1/train/XR_HAND/patient08222/study1_po...</td>\n",
       "      <td>1</td>\n",
       "      <td>HAND</td>\n",
       "      <td>patient08222</td>\n",
       "      <td>study1</td>\n",
       "      <td>patient08222study1</td>\n",
       "      <td>MURA-v1.1/train/XR_HAND/patient08222/study1_po...</td>\n",
       "    </tr>\n",
       "    <tr>\n",
       "      <th>11463</th>\n",
       "      <td>MURA-v1.1/train/XR_HAND/patient09753/study1_po...</td>\n",
       "      <td>1</td>\n",
       "      <td>HAND</td>\n",
       "      <td>patient09753</td>\n",
       "      <td>study1</td>\n",
       "      <td>patient09753study1</td>\n",
       "      <td>MURA-v1.1/train/XR_HAND/patient09753/study1_po...</td>\n",
       "    </tr>\n",
       "    <tr>\n",
       "      <th>11464</th>\n",
       "      <td>MURA-v1.1/train/XR_HAND/patient09754/study1_po...</td>\n",
       "      <td>1</td>\n",
       "      <td>HAND</td>\n",
       "      <td>patient09754</td>\n",
       "      <td>study1</td>\n",
       "      <td>patient09754study1</td>\n",
       "      <td>MURA-v1.1/train/XR_HAND/patient09754/study1_po...</td>\n",
       "    </tr>\n",
       "    <tr>\n",
       "      <th>11465</th>\n",
       "      <td>MURA-v1.1/train/XR_HAND/patient05913/study1_po...</td>\n",
       "      <td>1</td>\n",
       "      <td>HAND</td>\n",
       "      <td>patient05913</td>\n",
       "      <td>study1</td>\n",
       "      <td>patient05913study1</td>\n",
       "      <td>MURA-v1.1/train/XR_HAND/patient05913/study1_po...</td>\n",
       "    </tr>\n",
       "    <tr>\n",
       "      <th>11466</th>\n",
       "      <td>MURA-v1.1/train/XR_HAND/patient09755/study1_po...</td>\n",
       "      <td>1</td>\n",
       "      <td>HAND</td>\n",
       "      <td>patient09755</td>\n",
       "      <td>study1</td>\n",
       "      <td>patient09755study1</td>\n",
       "      <td>MURA-v1.1/train/XR_HAND/patient09755/study1_po...</td>\n",
       "    </tr>\n",
       "    <tr>\n",
       "      <th>11467</th>\n",
       "      <td>MURA-v1.1/train/XR_HAND/patient07501/study1_po...</td>\n",
       "      <td>1</td>\n",
       "      <td>HAND</td>\n",
       "      <td>patient07501</td>\n",
       "      <td>study1</td>\n",
       "      <td>patient07501study1</td>\n",
       "      <td>MURA-v1.1/train/XR_HAND/patient07501/study1_po...</td>\n",
       "    </tr>\n",
       "    <tr>\n",
       "      <th>11468</th>\n",
       "      <td>MURA-v1.1/train/XR_HAND/patient09756/study1_po...</td>\n",
       "      <td>1</td>\n",
       "      <td>HAND</td>\n",
       "      <td>patient09756</td>\n",
       "      <td>study1</td>\n",
       "      <td>patient09756study1</td>\n",
       "      <td>MURA-v1.1/train/XR_HAND/patient09756/study1_po...</td>\n",
       "    </tr>\n",
       "    <tr>\n",
       "      <th>...</th>\n",
       "      <td>...</td>\n",
       "      <td>...</td>\n",
       "      <td>...</td>\n",
       "      <td>...</td>\n",
       "      <td>...</td>\n",
       "      <td>...</td>\n",
       "      <td>...</td>\n",
       "    </tr>\n",
       "    <tr>\n",
       "      <th>13427</th>\n",
       "      <td>MURA-v1.1/train/XR_HAND/patient07313/study1_ne...</td>\n",
       "      <td>0</td>\n",
       "      <td>HAND</td>\n",
       "      <td>patient07313</td>\n",
       "      <td>study1</td>\n",
       "      <td>patient07313study1</td>\n",
       "      <td>MURA-v1.1/train/XR_HAND/patient07313/study1_ne...</td>\n",
       "    </tr>\n",
       "    <tr>\n",
       "      <th>13428</th>\n",
       "      <td>MURA-v1.1/train/XR_HAND/patient06258/study1_ne...</td>\n",
       "      <td>0</td>\n",
       "      <td>HAND</td>\n",
       "      <td>patient06258</td>\n",
       "      <td>study1</td>\n",
       "      <td>patient06258study1</td>\n",
       "      <td>MURA-v1.1/train/XR_HAND/patient06258/study1_ne...</td>\n",
       "    </tr>\n",
       "    <tr>\n",
       "      <th>13429</th>\n",
       "      <td>MURA-v1.1/train/XR_HAND/patient11161/study1_ne...</td>\n",
       "      <td>0</td>\n",
       "      <td>HAND</td>\n",
       "      <td>patient11161</td>\n",
       "      <td>study1</td>\n",
       "      <td>patient11161study1</td>\n",
       "      <td>MURA-v1.1/train/XR_HAND/patient11161/study1_ne...</td>\n",
       "    </tr>\n",
       "    <tr>\n",
       "      <th>13430</th>\n",
       "      <td>MURA-v1.1/train/XR_HAND/patient11162/study1_ne...</td>\n",
       "      <td>0</td>\n",
       "      <td>HAND</td>\n",
       "      <td>patient11162</td>\n",
       "      <td>study1</td>\n",
       "      <td>patient11162study1</td>\n",
       "      <td>MURA-v1.1/train/XR_HAND/patient11162/study1_ne...</td>\n",
       "    </tr>\n",
       "    <tr>\n",
       "      <th>13431</th>\n",
       "      <td>MURA-v1.1/train/XR_HAND/patient11163/study1_ne...</td>\n",
       "      <td>0</td>\n",
       "      <td>HAND</td>\n",
       "      <td>patient11163</td>\n",
       "      <td>study1</td>\n",
       "      <td>patient11163study1</td>\n",
       "      <td>MURA-v1.1/train/XR_HAND/patient11163/study1_ne...</td>\n",
       "    </tr>\n",
       "    <tr>\n",
       "      <th>13432</th>\n",
       "      <td>MURA-v1.1/train/XR_HAND/patient11164/study1_ne...</td>\n",
       "      <td>0</td>\n",
       "      <td>HAND</td>\n",
       "      <td>patient11164</td>\n",
       "      <td>study1</td>\n",
       "      <td>patient11164study1</td>\n",
       "      <td>MURA-v1.1/train/XR_HAND/patient11164/study1_ne...</td>\n",
       "    </tr>\n",
       "    <tr>\n",
       "      <th>13433</th>\n",
       "      <td>MURA-v1.1/train/XR_HAND/patient11165/study1_ne...</td>\n",
       "      <td>0</td>\n",
       "      <td>HAND</td>\n",
       "      <td>patient11165</td>\n",
       "      <td>study1</td>\n",
       "      <td>patient11165study1</td>\n",
       "      <td>MURA-v1.1/train/XR_HAND/patient11165/study1_ne...</td>\n",
       "    </tr>\n",
       "    <tr>\n",
       "      <th>13434</th>\n",
       "      <td>MURA-v1.1/train/XR_HAND/patient11166/study1_ne...</td>\n",
       "      <td>0</td>\n",
       "      <td>HAND</td>\n",
       "      <td>patient11166</td>\n",
       "      <td>study1</td>\n",
       "      <td>patient11166study1</td>\n",
       "      <td>MURA-v1.1/train/XR_HAND/patient11166/study1_ne...</td>\n",
       "    </tr>\n",
       "    <tr>\n",
       "      <th>13435</th>\n",
       "      <td>MURA-v1.1/train/XR_HAND/patient05430/study1_ne...</td>\n",
       "      <td>0</td>\n",
       "      <td>HAND</td>\n",
       "      <td>patient05430</td>\n",
       "      <td>study1</td>\n",
       "      <td>patient05430study1</td>\n",
       "      <td>MURA-v1.1/train/XR_HAND/patient05430/study1_ne...</td>\n",
       "    </tr>\n",
       "    <tr>\n",
       "      <th>13436</th>\n",
       "      <td>MURA-v1.1/train/XR_HAND/patient05595/study1_ne...</td>\n",
       "      <td>0</td>\n",
       "      <td>HAND</td>\n",
       "      <td>patient05595</td>\n",
       "      <td>study1</td>\n",
       "      <td>patient05595study1</td>\n",
       "      <td>MURA-v1.1/train/XR_HAND/patient05595/study1_ne...</td>\n",
       "    </tr>\n",
       "    <tr>\n",
       "      <th>13437</th>\n",
       "      <td>MURA-v1.1/train/XR_HAND/patient11167/study1_ne...</td>\n",
       "      <td>0</td>\n",
       "      <td>HAND</td>\n",
       "      <td>patient11167</td>\n",
       "      <td>study1</td>\n",
       "      <td>patient11167study1</td>\n",
       "      <td>MURA-v1.1/train/XR_HAND/patient11167/study1_ne...</td>\n",
       "    </tr>\n",
       "    <tr>\n",
       "      <th>13438</th>\n",
       "      <td>MURA-v1.1/train/XR_HAND/patient11168/study1_ne...</td>\n",
       "      <td>0</td>\n",
       "      <td>HAND</td>\n",
       "      <td>patient11168</td>\n",
       "      <td>study1</td>\n",
       "      <td>patient11168study1</td>\n",
       "      <td>MURA-v1.1/train/XR_HAND/patient11168/study1_ne...</td>\n",
       "    </tr>\n",
       "    <tr>\n",
       "      <th>13439</th>\n",
       "      <td>MURA-v1.1/train/XR_HAND/patient11169/study1_ne...</td>\n",
       "      <td>0</td>\n",
       "      <td>HAND</td>\n",
       "      <td>patient11169</td>\n",
       "      <td>study1</td>\n",
       "      <td>patient11169study1</td>\n",
       "      <td>MURA-v1.1/train/XR_HAND/patient11169/study1_ne...</td>\n",
       "    </tr>\n",
       "    <tr>\n",
       "      <th>13440</th>\n",
       "      <td>MURA-v1.1/train/XR_HAND/patient03761/study1_ne...</td>\n",
       "      <td>0</td>\n",
       "      <td>HAND</td>\n",
       "      <td>patient03761</td>\n",
       "      <td>study1</td>\n",
       "      <td>patient03761study1</td>\n",
       "      <td>MURA-v1.1/train/XR_HAND/patient03761/study1_ne...</td>\n",
       "    </tr>\n",
       "    <tr>\n",
       "      <th>13441</th>\n",
       "      <td>MURA-v1.1/train/XR_HAND/patient11170/study1_ne...</td>\n",
       "      <td>0</td>\n",
       "      <td>HAND</td>\n",
       "      <td>patient11170</td>\n",
       "      <td>study1</td>\n",
       "      <td>patient11170study1</td>\n",
       "      <td>MURA-v1.1/train/XR_HAND/patient11170/study1_ne...</td>\n",
       "    </tr>\n",
       "    <tr>\n",
       "      <th>13442</th>\n",
       "      <td>MURA-v1.1/train/XR_HAND/patient11171/study1_ne...</td>\n",
       "      <td>0</td>\n",
       "      <td>HAND</td>\n",
       "      <td>patient11171</td>\n",
       "      <td>study1</td>\n",
       "      <td>patient11171study1</td>\n",
       "      <td>MURA-v1.1/train/XR_HAND/patient11171/study1_ne...</td>\n",
       "    </tr>\n",
       "    <tr>\n",
       "      <th>13443</th>\n",
       "      <td>MURA-v1.1/train/XR_HAND/patient11172/study1_ne...</td>\n",
       "      <td>0</td>\n",
       "      <td>HAND</td>\n",
       "      <td>patient11172</td>\n",
       "      <td>study1</td>\n",
       "      <td>patient11172study1</td>\n",
       "      <td>MURA-v1.1/train/XR_HAND/patient11172/study1_ne...</td>\n",
       "    </tr>\n",
       "    <tr>\n",
       "      <th>13444</th>\n",
       "      <td>MURA-v1.1/train/XR_HAND/patient11173/study1_ne...</td>\n",
       "      <td>0</td>\n",
       "      <td>HAND</td>\n",
       "      <td>patient11173</td>\n",
       "      <td>study1</td>\n",
       "      <td>patient11173study1</td>\n",
       "      <td>MURA-v1.1/train/XR_HAND/patient11173/study1_ne...</td>\n",
       "    </tr>\n",
       "    <tr>\n",
       "      <th>13445</th>\n",
       "      <td>MURA-v1.1/train/XR_HAND/patient11174/study1_ne...</td>\n",
       "      <td>0</td>\n",
       "      <td>HAND</td>\n",
       "      <td>patient11174</td>\n",
       "      <td>study1</td>\n",
       "      <td>patient11174study1</td>\n",
       "      <td>MURA-v1.1/train/XR_HAND/patient11174/study1_ne...</td>\n",
       "    </tr>\n",
       "    <tr>\n",
       "      <th>13446</th>\n",
       "      <td>MURA-v1.1/train/XR_HAND/patient11175/study1_ne...</td>\n",
       "      <td>0</td>\n",
       "      <td>HAND</td>\n",
       "      <td>patient11175</td>\n",
       "      <td>study1</td>\n",
       "      <td>patient11175study1</td>\n",
       "      <td>MURA-v1.1/train/XR_HAND/patient11175/study1_ne...</td>\n",
       "    </tr>\n",
       "    <tr>\n",
       "      <th>13447</th>\n",
       "      <td>MURA-v1.1/train/XR_HAND/patient11176/study1_ne...</td>\n",
       "      <td>0</td>\n",
       "      <td>HAND</td>\n",
       "      <td>patient11176</td>\n",
       "      <td>study1</td>\n",
       "      <td>patient11176study1</td>\n",
       "      <td>MURA-v1.1/train/XR_HAND/patient11176/study1_ne...</td>\n",
       "    </tr>\n",
       "    <tr>\n",
       "      <th>13448</th>\n",
       "      <td>MURA-v1.1/train/XR_HAND/patient11177/study1_ne...</td>\n",
       "      <td>0</td>\n",
       "      <td>HAND</td>\n",
       "      <td>patient11177</td>\n",
       "      <td>study1</td>\n",
       "      <td>patient11177study1</td>\n",
       "      <td>MURA-v1.1/train/XR_HAND/patient11177/study1_ne...</td>\n",
       "    </tr>\n",
       "    <tr>\n",
       "      <th>13449</th>\n",
       "      <td>MURA-v1.1/train/XR_HAND/patient11178/study1_ne...</td>\n",
       "      <td>0</td>\n",
       "      <td>HAND</td>\n",
       "      <td>patient11178</td>\n",
       "      <td>study1</td>\n",
       "      <td>patient11178study1</td>\n",
       "      <td>MURA-v1.1/train/XR_HAND/patient11178/study1_ne...</td>\n",
       "    </tr>\n",
       "    <tr>\n",
       "      <th>13450</th>\n",
       "      <td>MURA-v1.1/train/XR_HAND/patient04107/study1_ne...</td>\n",
       "      <td>0</td>\n",
       "      <td>HAND</td>\n",
       "      <td>patient04107</td>\n",
       "      <td>study1</td>\n",
       "      <td>patient04107study1</td>\n",
       "      <td>MURA-v1.1/train/XR_HAND/patient04107/study1_ne...</td>\n",
       "    </tr>\n",
       "    <tr>\n",
       "      <th>13451</th>\n",
       "      <td>MURA-v1.1/train/XR_HAND/patient11179/study1_ne...</td>\n",
       "      <td>0</td>\n",
       "      <td>HAND</td>\n",
       "      <td>patient11179</td>\n",
       "      <td>study1</td>\n",
       "      <td>patient11179study1</td>\n",
       "      <td>MURA-v1.1/train/XR_HAND/patient11179/study1_ne...</td>\n",
       "    </tr>\n",
       "    <tr>\n",
       "      <th>13452</th>\n",
       "      <td>MURA-v1.1/train/XR_HAND/patient11180/study1_ne...</td>\n",
       "      <td>0</td>\n",
       "      <td>HAND</td>\n",
       "      <td>patient11180</td>\n",
       "      <td>study1</td>\n",
       "      <td>patient11180study1</td>\n",
       "      <td>MURA-v1.1/train/XR_HAND/patient11180/study1_ne...</td>\n",
       "    </tr>\n",
       "    <tr>\n",
       "      <th>13453</th>\n",
       "      <td>MURA-v1.1/train/XR_HAND/patient11181/study1_ne...</td>\n",
       "      <td>0</td>\n",
       "      <td>HAND</td>\n",
       "      <td>patient11181</td>\n",
       "      <td>study1</td>\n",
       "      <td>patient11181study1</td>\n",
       "      <td>MURA-v1.1/train/XR_HAND/patient11181/study1_ne...</td>\n",
       "    </tr>\n",
       "    <tr>\n",
       "      <th>13454</th>\n",
       "      <td>MURA-v1.1/train/XR_HAND/patient11182/study1_ne...</td>\n",
       "      <td>0</td>\n",
       "      <td>HAND</td>\n",
       "      <td>patient11182</td>\n",
       "      <td>study1</td>\n",
       "      <td>patient11182study1</td>\n",
       "      <td>MURA-v1.1/train/XR_HAND/patient11182/study1_ne...</td>\n",
       "    </tr>\n",
       "    <tr>\n",
       "      <th>13455</th>\n",
       "      <td>MURA-v1.1/train/XR_HAND/patient11183/study1_ne...</td>\n",
       "      <td>0</td>\n",
       "      <td>HAND</td>\n",
       "      <td>patient11183</td>\n",
       "      <td>study1</td>\n",
       "      <td>patient11183study1</td>\n",
       "      <td>MURA-v1.1/train/XR_HAND/patient11183/study1_ne...</td>\n",
       "    </tr>\n",
       "    <tr>\n",
       "      <th>13456</th>\n",
       "      <td>MURA-v1.1/train/XR_HAND/patient11184/study1_ne...</td>\n",
       "      <td>0</td>\n",
       "      <td>HAND</td>\n",
       "      <td>patient11184</td>\n",
       "      <td>study1</td>\n",
       "      <td>patient11184study1</td>\n",
       "      <td>MURA-v1.1/train/XR_HAND/patient11184/study1_ne...</td>\n",
       "    </tr>\n",
       "  </tbody>\n",
       "</table>\n",
       "<p>2018 rows × 7 columns</p>\n",
       "</div>"
      ],
      "text/plain": [
       "                                                    path label  part  \\\n",
       "11439  MURA-v1.1/train/XR_HAND/patient09734/study1_po...     1  HAND   \n",
       "11440  MURA-v1.1/train/XR_HAND/patient09735/study1_po...     1  HAND   \n",
       "11441  MURA-v1.1/train/XR_HAND/patient07365/study1_po...     1  HAND   \n",
       "11442  MURA-v1.1/train/XR_HAND/patient09736/study1_po...     1  HAND   \n",
       "11443  MURA-v1.1/train/XR_HAND/patient09737/study1_po...     1  HAND   \n",
       "11444  MURA-v1.1/train/XR_HAND/patient08710/study1_po...     1  HAND   \n",
       "11445  MURA-v1.1/train/XR_HAND/patient09738/study1_po...     1  HAND   \n",
       "11446  MURA-v1.1/train/XR_HAND/patient09739/study1_po...     1  HAND   \n",
       "11447  MURA-v1.1/train/XR_HAND/patient09740/study1_po...     1  HAND   \n",
       "11448  MURA-v1.1/train/XR_HAND/patient09740/study2_ne...     0  HAND   \n",
       "11449  MURA-v1.1/train/XR_HAND/patient07048/study1_po...     1  HAND   \n",
       "11450  MURA-v1.1/train/XR_HAND/patient09741/study1_po...     1  HAND   \n",
       "11451  MURA-v1.1/train/XR_HAND/patient09742/study1_po...     1  HAND   \n",
       "11452  MURA-v1.1/train/XR_HAND/patient09743/study1_po...     1  HAND   \n",
       "11453  MURA-v1.1/train/XR_HAND/patient09744/study1_po...     1  HAND   \n",
       "11454  MURA-v1.1/train/XR_HAND/patient09745/study1_po...     1  HAND   \n",
       "11455  MURA-v1.1/train/XR_HAND/patient09746/study1_po...     1  HAND   \n",
       "11456  MURA-v1.1/train/XR_HAND/patient09747/study1_po...     1  HAND   \n",
       "11457  MURA-v1.1/train/XR_HAND/patient09748/study1_po...     1  HAND   \n",
       "11458  MURA-v1.1/train/XR_HAND/patient09749/study1_po...     1  HAND   \n",
       "11459  MURA-v1.1/train/XR_HAND/patient09750/study1_po...     1  HAND   \n",
       "11460  MURA-v1.1/train/XR_HAND/patient09751/study1_po...     1  HAND   \n",
       "11461  MURA-v1.1/train/XR_HAND/patient09752/study1_po...     1  HAND   \n",
       "11462  MURA-v1.1/train/XR_HAND/patient08222/study1_po...     1  HAND   \n",
       "11463  MURA-v1.1/train/XR_HAND/patient09753/study1_po...     1  HAND   \n",
       "11464  MURA-v1.1/train/XR_HAND/patient09754/study1_po...     1  HAND   \n",
       "11465  MURA-v1.1/train/XR_HAND/patient05913/study1_po...     1  HAND   \n",
       "11466  MURA-v1.1/train/XR_HAND/patient09755/study1_po...     1  HAND   \n",
       "11467  MURA-v1.1/train/XR_HAND/patient07501/study1_po...     1  HAND   \n",
       "11468  MURA-v1.1/train/XR_HAND/patient09756/study1_po...     1  HAND   \n",
       "...                                                  ...   ...   ...   \n",
       "13427  MURA-v1.1/train/XR_HAND/patient07313/study1_ne...     0  HAND   \n",
       "13428  MURA-v1.1/train/XR_HAND/patient06258/study1_ne...     0  HAND   \n",
       "13429  MURA-v1.1/train/XR_HAND/patient11161/study1_ne...     0  HAND   \n",
       "13430  MURA-v1.1/train/XR_HAND/patient11162/study1_ne...     0  HAND   \n",
       "13431  MURA-v1.1/train/XR_HAND/patient11163/study1_ne...     0  HAND   \n",
       "13432  MURA-v1.1/train/XR_HAND/patient11164/study1_ne...     0  HAND   \n",
       "13433  MURA-v1.1/train/XR_HAND/patient11165/study1_ne...     0  HAND   \n",
       "13434  MURA-v1.1/train/XR_HAND/patient11166/study1_ne...     0  HAND   \n",
       "13435  MURA-v1.1/train/XR_HAND/patient05430/study1_ne...     0  HAND   \n",
       "13436  MURA-v1.1/train/XR_HAND/patient05595/study1_ne...     0  HAND   \n",
       "13437  MURA-v1.1/train/XR_HAND/patient11167/study1_ne...     0  HAND   \n",
       "13438  MURA-v1.1/train/XR_HAND/patient11168/study1_ne...     0  HAND   \n",
       "13439  MURA-v1.1/train/XR_HAND/patient11169/study1_ne...     0  HAND   \n",
       "13440  MURA-v1.1/train/XR_HAND/patient03761/study1_ne...     0  HAND   \n",
       "13441  MURA-v1.1/train/XR_HAND/patient11170/study1_ne...     0  HAND   \n",
       "13442  MURA-v1.1/train/XR_HAND/patient11171/study1_ne...     0  HAND   \n",
       "13443  MURA-v1.1/train/XR_HAND/patient11172/study1_ne...     0  HAND   \n",
       "13444  MURA-v1.1/train/XR_HAND/patient11173/study1_ne...     0  HAND   \n",
       "13445  MURA-v1.1/train/XR_HAND/patient11174/study1_ne...     0  HAND   \n",
       "13446  MURA-v1.1/train/XR_HAND/patient11175/study1_ne...     0  HAND   \n",
       "13447  MURA-v1.1/train/XR_HAND/patient11176/study1_ne...     0  HAND   \n",
       "13448  MURA-v1.1/train/XR_HAND/patient11177/study1_ne...     0  HAND   \n",
       "13449  MURA-v1.1/train/XR_HAND/patient11178/study1_ne...     0  HAND   \n",
       "13450  MURA-v1.1/train/XR_HAND/patient04107/study1_ne...     0  HAND   \n",
       "13451  MURA-v1.1/train/XR_HAND/patient11179/study1_ne...     0  HAND   \n",
       "13452  MURA-v1.1/train/XR_HAND/patient11180/study1_ne...     0  HAND   \n",
       "13453  MURA-v1.1/train/XR_HAND/patient11181/study1_ne...     0  HAND   \n",
       "13454  MURA-v1.1/train/XR_HAND/patient11182/study1_ne...     0  HAND   \n",
       "13455  MURA-v1.1/train/XR_HAND/patient11183/study1_ne...     0  HAND   \n",
       "13456  MURA-v1.1/train/XR_HAND/patient11184/study1_ne...     0  HAND   \n",
       "\n",
       "         patientNum studyNum             caseNum  \\\n",
       "11439  patient09734   study1  patient09734study1   \n",
       "11440  patient09735   study1  patient09735study1   \n",
       "11441  patient07365   study1  patient07365study1   \n",
       "11442  patient09736   study1  patient09736study1   \n",
       "11443  patient09737   study1  patient09737study1   \n",
       "11444  patient08710   study1  patient08710study1   \n",
       "11445  patient09738   study1  patient09738study1   \n",
       "11446  patient09739   study1  patient09739study1   \n",
       "11447  patient09740   study1  patient09740study1   \n",
       "11448  patient09740   study2  patient09740study2   \n",
       "11449  patient07048   study1  patient07048study1   \n",
       "11450  patient09741   study1  patient09741study1   \n",
       "11451  patient09742   study1  patient09742study1   \n",
       "11452  patient09743   study1  patient09743study1   \n",
       "11453  patient09744   study1  patient09744study1   \n",
       "11454  patient09745   study1  patient09745study1   \n",
       "11455  patient09746   study1  patient09746study1   \n",
       "11456  patient09747   study1  patient09747study1   \n",
       "11457  patient09748   study1  patient09748study1   \n",
       "11458  patient09749   study1  patient09749study1   \n",
       "11459  patient09750   study1  patient09750study1   \n",
       "11460  patient09751   study1  patient09751study1   \n",
       "11461  patient09752   study1  patient09752study1   \n",
       "11462  patient08222   study1  patient08222study1   \n",
       "11463  patient09753   study1  patient09753study1   \n",
       "11464  patient09754   study1  patient09754study1   \n",
       "11465  patient05913   study1  patient05913study1   \n",
       "11466  patient09755   study1  patient09755study1   \n",
       "11467  patient07501   study1  patient07501study1   \n",
       "11468  patient09756   study1  patient09756study1   \n",
       "...             ...      ...                 ...   \n",
       "13427  patient07313   study1  patient07313study1   \n",
       "13428  patient06258   study1  patient06258study1   \n",
       "13429  patient11161   study1  patient11161study1   \n",
       "13430  patient11162   study1  patient11162study1   \n",
       "13431  patient11163   study1  patient11163study1   \n",
       "13432  patient11164   study1  patient11164study1   \n",
       "13433  patient11165   study1  patient11165study1   \n",
       "13434  patient11166   study1  patient11166study1   \n",
       "13435  patient05430   study1  patient05430study1   \n",
       "13436  patient05595   study1  patient05595study1   \n",
       "13437  patient11167   study1  patient11167study1   \n",
       "13438  patient11168   study1  patient11168study1   \n",
       "13439  patient11169   study1  patient11169study1   \n",
       "13440  patient03761   study1  patient03761study1   \n",
       "13441  patient11170   study1  patient11170study1   \n",
       "13442  patient11171   study1  patient11171study1   \n",
       "13443  patient11172   study1  patient11172study1   \n",
       "13444  patient11173   study1  patient11173study1   \n",
       "13445  patient11174   study1  patient11174study1   \n",
       "13446  patient11175   study1  patient11175study1   \n",
       "13447  patient11176   study1  patient11176study1   \n",
       "13448  patient11177   study1  patient11177study1   \n",
       "13449  patient11178   study1  patient11178study1   \n",
       "13450  patient04107   study1  patient04107study1   \n",
       "13451  patient11179   study1  patient11179study1   \n",
       "13452  patient11180   study1  patient11180study1   \n",
       "13453  patient11181   study1  patient11181study1   \n",
       "13454  patient11182   study1  patient11182study1   \n",
       "13455  patient11183   study1  patient11183study1   \n",
       "13456  patient11184   study1  patient11184study1   \n",
       "\n",
       "                                                 avgpath  \n",
       "11439  MURA-v1.1/train/XR_HAND/patient09734/study1_po...  \n",
       "11440  MURA-v1.1/train/XR_HAND/patient09735/study1_po...  \n",
       "11441  MURA-v1.1/train/XR_HAND/patient07365/study1_po...  \n",
       "11442  MURA-v1.1/train/XR_HAND/patient09736/study1_po...  \n",
       "11443  MURA-v1.1/train/XR_HAND/patient09737/study1_po...  \n",
       "11444  MURA-v1.1/train/XR_HAND/patient08710/study1_po...  \n",
       "11445  MURA-v1.1/train/XR_HAND/patient09738/study1_po...  \n",
       "11446  MURA-v1.1/train/XR_HAND/patient09739/study1_po...  \n",
       "11447  MURA-v1.1/train/XR_HAND/patient09740/study1_po...  \n",
       "11448  MURA-v1.1/train/XR_HAND/patient09740/study2_ne...  \n",
       "11449  MURA-v1.1/train/XR_HAND/patient07048/study1_po...  \n",
       "11450  MURA-v1.1/train/XR_HAND/patient09741/study1_po...  \n",
       "11451  MURA-v1.1/train/XR_HAND/patient09742/study1_po...  \n",
       "11452  MURA-v1.1/train/XR_HAND/patient09743/study1_po...  \n",
       "11453  MURA-v1.1/train/XR_HAND/patient09744/study1_po...  \n",
       "11454  MURA-v1.1/train/XR_HAND/patient09745/study1_po...  \n",
       "11455  MURA-v1.1/train/XR_HAND/patient09746/study1_po...  \n",
       "11456  MURA-v1.1/train/XR_HAND/patient09747/study1_po...  \n",
       "11457  MURA-v1.1/train/XR_HAND/patient09748/study1_po...  \n",
       "11458  MURA-v1.1/train/XR_HAND/patient09749/study1_po...  \n",
       "11459  MURA-v1.1/train/XR_HAND/patient09750/study1_po...  \n",
       "11460  MURA-v1.1/train/XR_HAND/patient09751/study1_po...  \n",
       "11461  MURA-v1.1/train/XR_HAND/patient09752/study1_po...  \n",
       "11462  MURA-v1.1/train/XR_HAND/patient08222/study1_po...  \n",
       "11463  MURA-v1.1/train/XR_HAND/patient09753/study1_po...  \n",
       "11464  MURA-v1.1/train/XR_HAND/patient09754/study1_po...  \n",
       "11465  MURA-v1.1/train/XR_HAND/patient05913/study1_po...  \n",
       "11466  MURA-v1.1/train/XR_HAND/patient09755/study1_po...  \n",
       "11467  MURA-v1.1/train/XR_HAND/patient07501/study1_po...  \n",
       "11468  MURA-v1.1/train/XR_HAND/patient09756/study1_po...  \n",
       "...                                                  ...  \n",
       "13427  MURA-v1.1/train/XR_HAND/patient07313/study1_ne...  \n",
       "13428  MURA-v1.1/train/XR_HAND/patient06258/study1_ne...  \n",
       "13429  MURA-v1.1/train/XR_HAND/patient11161/study1_ne...  \n",
       "13430  MURA-v1.1/train/XR_HAND/patient11162/study1_ne...  \n",
       "13431  MURA-v1.1/train/XR_HAND/patient11163/study1_ne...  \n",
       "13432  MURA-v1.1/train/XR_HAND/patient11164/study1_ne...  \n",
       "13433  MURA-v1.1/train/XR_HAND/patient11165/study1_ne...  \n",
       "13434  MURA-v1.1/train/XR_HAND/patient11166/study1_ne...  \n",
       "13435  MURA-v1.1/train/XR_HAND/patient05430/study1_ne...  \n",
       "13436  MURA-v1.1/train/XR_HAND/patient05595/study1_ne...  \n",
       "13437  MURA-v1.1/train/XR_HAND/patient11167/study1_ne...  \n",
       "13438  MURA-v1.1/train/XR_HAND/patient11168/study1_ne...  \n",
       "13439  MURA-v1.1/train/XR_HAND/patient11169/study1_ne...  \n",
       "13440  MURA-v1.1/train/XR_HAND/patient03761/study1_ne...  \n",
       "13441  MURA-v1.1/train/XR_HAND/patient11170/study1_ne...  \n",
       "13442  MURA-v1.1/train/XR_HAND/patient11171/study1_ne...  \n",
       "13443  MURA-v1.1/train/XR_HAND/patient11172/study1_ne...  \n",
       "13444  MURA-v1.1/train/XR_HAND/patient11173/study1_ne...  \n",
       "13445  MURA-v1.1/train/XR_HAND/patient11174/study1_ne...  \n",
       "13446  MURA-v1.1/train/XR_HAND/patient11175/study1_ne...  \n",
       "13447  MURA-v1.1/train/XR_HAND/patient11176/study1_ne...  \n",
       "13448  MURA-v1.1/train/XR_HAND/patient11177/study1_ne...  \n",
       "13449  MURA-v1.1/train/XR_HAND/patient11178/study1_ne...  \n",
       "13450  MURA-v1.1/train/XR_HAND/patient04107/study1_ne...  \n",
       "13451  MURA-v1.1/train/XR_HAND/patient11179/study1_ne...  \n",
       "13452  MURA-v1.1/train/XR_HAND/patient11180/study1_ne...  \n",
       "13453  MURA-v1.1/train/XR_HAND/patient11181/study1_ne...  \n",
       "13454  MURA-v1.1/train/XR_HAND/patient11182/study1_ne...  \n",
       "13455  MURA-v1.1/train/XR_HAND/patient11183/study1_ne...  \n",
       "13456  MURA-v1.1/train/XR_HAND/patient11184/study1_ne...  \n",
       "\n",
       "[2018 rows x 7 columns]"
      ]
     },
     "execution_count": 104,
     "metadata": {},
     "output_type": "execute_result"
    }
   ],
   "source": [
    "train_hand_label"
   ]
  },
  {
   "cell_type": "markdown",
   "metadata": {},
   "source": [
    "##### Average the images and save it into one file"
   ]
  },
  {
   "cell_type": "code",
   "execution_count": 105,
   "metadata": {},
   "outputs": [],
   "source": [
    "for folder in train_hand_label['path']:\n",
    "    ii = 0\n",
    "    img_sum = np.zeros((150, 150))\n",
    "    pic = glob(folder+'*.png')\n",
    "    for filename in pic:\n",
    "        im = resize_and_normalization(filename)\n",
    "        img_sum += im \n",
    "        ii += 1\n",
    "   # m = Image.fromarray(rescaled)\n",
    "    img_average = img_sum / ii\n",
    "    cv2.imwrite(folder + \"img_average.png\", img_average)\n",
    "\n",
    "\n",
    "   # img_average.save(\"mean_img.png\",img_average)\n",
    "   # trainLabelDf['path'] =  trainLabelDf['path'] + 'mean_img.png'                          \n",
    "#os.listdir(trainLabelDf['path'][0])\n"
   ]
  },
  {
   "cell_type": "code",
   "execution_count": 109,
   "metadata": {},
   "outputs": [
    {
     "data": {
      "text/plain": [
       "<matplotlib.image.AxesImage at 0x24918e44748>"
      ]
     },
     "execution_count": 109,
     "metadata": {},
     "output_type": "execute_result"
    },
    {
     "data": {
      "image/png": "[encoded data removed]",
      "text/plain": [
       "<Figure size 432x288 with 1 Axes>"
      ]
     },
     "metadata": {
      "needs_background": "light"
     },
     "output_type": "display_data"
    }
   ],
   "source": [
    "img=cv2.imread(train_hand_label['path'][11439] + 'img_average.png',0)\n",
    "plt.imshow(img)"
   ]
  },
  {
   "cell_type": "code",
   "execution_count": 110,
   "metadata": {},
   "outputs": [
    {
     "data": {
      "text/plain": [
       "(150, 150)"
      ]
     },
     "execution_count": 110,
     "metadata": {},
     "output_type": "execute_result"
    }
   ],
   "source": [
    "img_average.shape"
   ]
  },
  {
   "cell_type": "code",
   "execution_count": 111,
   "metadata": {},
   "outputs": [
    {
     "data": {
      "text/plain": [
       "'MURA-v1.1/train/XR_HAND/patient09734/study1_positive/img_average.png'"
      ]
     },
     "execution_count": 111,
     "metadata": {},
     "output_type": "execute_result"
    }
   ],
   "source": [
    "train_hand_label['path'][11439] + 'img_average.png'"
   ]
  },
  {
   "cell_type": "code",
   "execution_count": 112,
   "metadata": {},
   "outputs": [
    {
     "name": "stderr",
     "output_type": "stream",
     "text": [
      "C:\\Users\\marti\\Anaconda3\\lib\\site-packages\\ipykernel_launcher.py:1: SettingWithCopyWarning: \n",
      "A value is trying to be set on a copy of a slice from a DataFrame.\n",
      "Try using .loc[row_indexer,col_indexer] = value instead\n",
      "\n",
      "See the caveats in the documentation: http://pandas.pydata.org/pandas-docs/stable/indexing.html#indexing-view-versus-copy\n",
      "  \"\"\"Entry point for launching an IPython kernel.\n",
      "C:\\Users\\marti\\Anaconda3\\lib\\site-packages\\ipykernel_launcher.py:2: SettingWithCopyWarning: \n",
      "A value is trying to be set on a copy of a slice from a DataFrame.\n",
      "Try using .loc[row_indexer,col_indexer] = value instead\n",
      "\n",
      "See the caveats in the documentation: http://pandas.pydata.org/pandas-docs/stable/indexing.html#indexing-view-versus-copy\n",
      "  \n"
     ]
    }
   ],
   "source": [
    "train_hand_label['avgpath']=train_hand_label['path'].apply(lambda x: x+'img_average.png')\n",
    "test_hand_label['avgpath']=test_hand_label['path'].apply(lambda x: x+'img_average.png')\n",
    "\n",
    "## add path + img_average.png to get the path for average image of each cases"
   ]
  },
  {
   "cell_type": "code",
   "execution_count": 113,
   "metadata": {},
   "outputs": [
    {
     "data": {
      "text/html": [
       "<div>\n",
       "<style scoped>\n",
       "    .dataframe tbody tr th:only-of-type {\n",
       "        vertical-align: middle;\n",
       "    }\n",
       "\n",
       "    .dataframe tbody tr th {\n",
       "        vertical-align: top;\n",
       "    }\n",
       "\n",
       "    .dataframe thead th {\n",
       "        text-align: right;\n",
       "    }\n",
       "</style>\n",
       "<table border=\"1\" class=\"dataframe\">\n",
       "  <thead>\n",
       "    <tr style=\"text-align: right;\">\n",
       "      <th></th>\n",
       "      <th>path</th>\n",
       "      <th>label</th>\n",
       "      <th>part</th>\n",
       "      <th>patientNum</th>\n",
       "      <th>studyNum</th>\n",
       "      <th>caseNum</th>\n",
       "      <th>avgpath</th>\n",
       "    </tr>\n",
       "  </thead>\n",
       "  <tbody>\n",
       "    <tr>\n",
       "      <th>11439</th>\n",
       "      <td>MURA-v1.1/train/XR_HAND/patient09734/study1_po...</td>\n",
       "      <td>1</td>\n",
       "      <td>HAND</td>\n",
       "      <td>patient09734</td>\n",
       "      <td>study1</td>\n",
       "      <td>patient09734study1</td>\n",
       "      <td>MURA-v1.1/train/XR_HAND/patient09734/study1_po...</td>\n",
       "    </tr>\n",
       "    <tr>\n",
       "      <th>11440</th>\n",
       "      <td>MURA-v1.1/train/XR_HAND/patient09735/study1_po...</td>\n",
       "      <td>1</td>\n",
       "      <td>HAND</td>\n",
       "      <td>patient09735</td>\n",
       "      <td>study1</td>\n",
       "      <td>patient09735study1</td>\n",
       "      <td>MURA-v1.1/train/XR_HAND/patient09735/study1_po...</td>\n",
       "    </tr>\n",
       "    <tr>\n",
       "      <th>11441</th>\n",
       "      <td>MURA-v1.1/train/XR_HAND/patient07365/study1_po...</td>\n",
       "      <td>1</td>\n",
       "      <td>HAND</td>\n",
       "      <td>patient07365</td>\n",
       "      <td>study1</td>\n",
       "      <td>patient07365study1</td>\n",
       "      <td>MURA-v1.1/train/XR_HAND/patient07365/study1_po...</td>\n",
       "    </tr>\n",
       "    <tr>\n",
       "      <th>11442</th>\n",
       "      <td>MURA-v1.1/train/XR_HAND/patient09736/study1_po...</td>\n",
       "      <td>1</td>\n",
       "      <td>HAND</td>\n",
       "      <td>patient09736</td>\n",
       "      <td>study1</td>\n",
       "      <td>patient09736study1</td>\n",
       "      <td>MURA-v1.1/train/XR_HAND/patient09736/study1_po...</td>\n",
       "    </tr>\n",
       "    <tr>\n",
       "      <th>11443</th>\n",
       "      <td>MURA-v1.1/train/XR_HAND/patient09737/study1_po...</td>\n",
       "      <td>1</td>\n",
       "      <td>HAND</td>\n",
       "      <td>patient09737</td>\n",
       "      <td>study1</td>\n",
       "      <td>patient09737study1</td>\n",
       "      <td>MURA-v1.1/train/XR_HAND/patient09737/study1_po...</td>\n",
       "    </tr>\n",
       "  </tbody>\n",
       "</table>\n",
       "</div>"
      ],
      "text/plain": [
       "                                                    path label  part  \\\n",
       "11439  MURA-v1.1/train/XR_HAND/patient09734/study1_po...     1  HAND   \n",
       "11440  MURA-v1.1/train/XR_HAND/patient09735/study1_po...     1  HAND   \n",
       "11441  MURA-v1.1/train/XR_HAND/patient07365/study1_po...     1  HAND   \n",
       "11442  MURA-v1.1/train/XR_HAND/patient09736/study1_po...     1  HAND   \n",
       "11443  MURA-v1.1/train/XR_HAND/patient09737/study1_po...     1  HAND   \n",
       "\n",
       "         patientNum studyNum             caseNum  \\\n",
       "11439  patient09734   study1  patient09734study1   \n",
       "11440  patient09735   study1  patient09735study1   \n",
       "11441  patient07365   study1  patient07365study1   \n",
       "11442  patient09736   study1  patient09736study1   \n",
       "11443  patient09737   study1  patient09737study1   \n",
       "\n",
       "                                                 avgpath  \n",
       "11439  MURA-v1.1/train/XR_HAND/patient09734/study1_po...  \n",
       "11440  MURA-v1.1/train/XR_HAND/patient09735/study1_po...  \n",
       "11441  MURA-v1.1/train/XR_HAND/patient07365/study1_po...  \n",
       "11442  MURA-v1.1/train/XR_HAND/patient09736/study1_po...  \n",
       "11443  MURA-v1.1/train/XR_HAND/patient09737/study1_po...  "
      ]
     },
     "execution_count": 113,
     "metadata": {},
     "output_type": "execute_result"
    }
   ],
   "source": [
    "train_hand_label.head()"
   ]
  },
  {
   "cell_type": "code",
   "execution_count": null,
   "metadata": {},
   "outputs": [],
   "source": []
  },
  {
   "cell_type": "code",
   "execution_count": 114,
   "metadata": {},
   "outputs": [],
   "source": [
    "# perform same operation for test dataset\n",
    "\n",
    "for folder in test_hand_label['path']:\n",
    "    ii = 0\n",
    "    img_sum = np.zeros((150, 150))\n",
    "    for filename in os.listdir(folder):\n",
    "        im = resize_and_normalization(folder + filename)\n",
    "        img_sum += im \n",
    "        ii += 1\n",
    "   # m = Image.fromarray(rescaled)\n",
    "    img_average = img_sum / ii\n",
    "    cv2.imwrite(folder + \"img_average.png\", img_average)\n"
   ]
  },
  {
   "cell_type": "markdown",
   "metadata": {},
   "source": [
    "### Building CNN using Keras"
   ]
  },
  {
   "cell_type": "code",
   "execution_count": 115,
   "metadata": {},
   "outputs": [],
   "source": [
    "from keras.preprocessing.image import ImageDataGenerator\n",
    "from keras.models import Sequential\n",
    "from keras.layers import Conv2D, MaxPooling2D\n",
    "from keras.layers import Activation, Dropout, Flatten, Dense"
   ]
  },
  {
   "cell_type": "code",
   "execution_count": 171,
   "metadata": {},
   "outputs": [],
   "source": [
    "## image size (sizing down the original image)\n",
    "IMG_SIZE=(150,150)"
   ]
  },
  {
   "cell_type": "code",
   "execution_count": 203,
   "metadata": {},
   "outputs": [],
   "source": [
    "## CNN architecture (variation of LeNet)\n",
    "input_shape = (150, 150, 1)\n",
    "\n",
    "model = Sequential()\n",
    "model.add(Conv2D(32, (3, 3), input_shape=input_shape))\n",
    "model.add(Activation('relu'))\n",
    "model.add(MaxPooling2D(pool_size=(2, 2)))\n",
    "\n",
    "model.add(Conv2D(32, (3, 3)))\n",
    "model.add(Activation('relu'))\n",
    "model.add(MaxPooling2D(pool_size=(2, 2)))\n",
    "\n",
    "model.add(Conv2D(64, (3, 3)))\n",
    "model.add(Activation('relu'))\n",
    "model.add(MaxPooling2D(pool_size=(2,2)))\n",
    "\n",
    "model.add(Flatten())\n",
    "model.add(Dense(64))\n",
    "model.add(Activation('relu'))\n",
    "model.add(Dropout(0.5))\n",
    "model.add(Dense(2, activation='softmax'))\n",
    "model.compile(loss = 'binary_crossentropy', optimizer = 'adam', metrics = ['accuracy'])"
   ]
  },
  {
   "cell_type": "markdown",
   "metadata": {},
   "source": [
    "##### Data Augmentation"
   ]
  },
  {
   "cell_type": "code",
   "execution_count": 204,
   "metadata": {},
   "outputs": [],
   "source": [
    "from keras.preprocessing.image import ImageDataGenerator\n",
    "datagen=ImageDataGenerator(\n",
    "    horizontal_flip=True,\n",
    "    vertical_flip=True,\n",
    "    rescale=1./255,\n",
    "    rotation_range=25,\n",
    "    fill_mode='nearest',\n",
    ")"
   ]
  },
  {
   "cell_type": "code",
   "execution_count": 205,
   "metadata": {},
   "outputs": [],
   "source": [
    "batch_size = 16"
   ]
  },
  {
   "cell_type": "code",
   "execution_count": 206,
   "metadata": {
    "scrolled": true
   },
   "outputs": [
    {
     "name": "stdout",
     "output_type": "stream",
     "text": [
      "Found 2018 validated image filenames belonging to 2 classes.\n",
      "Found 167 validated image filenames belonging to 2 classes.\n"
     ]
    }
   ],
   "source": [
    "\n",
    "train_generator = datagen.flow_from_dataframe(\n",
    "    train_hand_label,x_col='avgpath',\n",
    "    y_col = 'label',\n",
    "    target_size= IMG_SIZE,\n",
    "    color_mode = 'grayscale',\n",
    "    batch_size= 16)\n",
    "\n",
    "\n",
    "test_generator = datagen.flow_from_dataframe(\n",
    "    test_hand_label,x_col='avgpath',\n",
    "    y_col = 'label',\n",
    "    target_size= IMG_SIZE,\n",
    "    color_mode = 'grayscale',\n",
    "    batch_size= 16)"
   ]
  },
  {
   "cell_type": "code",
   "execution_count": null,
   "metadata": {},
   "outputs": [
    {
     "name": "stdout",
     "output_type": "stream",
     "text": [
      "Epoch 1/50\n",
      " 61/126 [=============>................] - ETA: 18s - loss: 0.6187 - acc: 0.7203"
     ]
    }
   ],
   "source": [
    "# need to be changed\n",
    "epochs = 50\n",
    "nb_train_samples = train_hand_label['label'].count()\n",
    "nb_test_samples = test_hand_label['label'].count()\n",
    "model.fit_generator(train_generator, \n",
    "                      steps_per_epoch=nb_train_samples // batch_size,\n",
    "                    epochs=epochs,\n",
    "                   validation_data=test_generator,\n",
    "                      validation_steps=nb_test_samples // batch_size)"
   ]
  },
  {
   "cell_type": "code",
   "execution_count": null,
   "metadata": {},
   "outputs": [],
   "source": []
  },
  {
   "cell_type": "code",
   "execution_count": null,
   "metadata": {},
   "outputs": [],
   "source": []
  },
  {
   "cell_type": "code",
   "execution_count": null,
   "metadata": {},
   "outputs": [],
   "source": []
  },
  {
   "cell_type": "code",
   "execution_count": null,
   "metadata": {},
   "outputs": [],
   "source": []
  }
 ],
 "metadata": {
  "kernelspec": {
   "display_name": "Python 3",
   "language": "python",
   "name": "python3"
  },
  "language_info": {
   "codemirror_mode": {
    "name": "ipython",
    "version": 3
   },
   "file_extension": ".py",
   "mimetype": "text/x-python",
   "name": "python",
   "nbconvert_exporter": "python",
   "pygments_lexer": "ipython3",
   "version": "3.7.3"
  }
 },
 "nbformat": 4,
 "nbformat_minor": 2
}
